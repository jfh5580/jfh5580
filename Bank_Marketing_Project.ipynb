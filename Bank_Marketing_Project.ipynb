{
  "cells": [
    {
      "cell_type": "markdown",
      "metadata": {
        "id": "view-in-github",
        "colab_type": "text"
      },
      "source": [
        "<a href=\"https://colab.research.google.com/github/jfh5580/jfh5580/blob/main/Bank_Marketing_Project.ipynb\" target=\"_parent\"><img src=\"https://colab.research.google.com/assets/colab-badge.svg\" alt=\"Open In Colab\"/></a>"
      ]
    },
    {
      "cell_type": "markdown",
      "source": [
        "## Iicense"
      ],
      "metadata": {
        "id": "Q-tnhyYhnpI6"
      },
      "id": "Q-tnhyYhnpI6"
    },
    {
      "cell_type": "markdown",
      "source": [
        "MIT License\n",
        "\n",
        "Copyright (c) 2023 jfh5580\n",
        "\n",
        "Permission is hereby granted, free of charge, to any person obtaining a copy of this software and associated documentation files (the \"Software\"), to deal in the Software without restriction, including without limitation the rights to use, copy, modify, merge, publish, distribute, sublicense, and/or sell copies of the Software, and to permit persons to whom the Software is furnished to do so, subject to the following conditions:\n",
        "\n",
        "The above copyright notice and this permission notice shall be included in all copies or substantial portions of the Software.\n",
        "\n",
        "THE SOFTWARE IS PROVIDED \"AS IS\", WITHOUT WARRANTY OF ANY KIND, EXPRESS OR IMPLIED, INCLUDING BUT NOT LIMITED TO THE WARRANTIES OF MERCHANTABILITY, FITNESS FOR A PARTICULAR PURPOSE AND NONINFRINGEMENT. IN NO EVENT SHALL THE AUTHORS OR COPYRIGHT HOLDERS BE LIABLE FOR ANY CLAIM, DAMAGES OR OTHER LIABILITY, WHETHER IN AN ACTION OF CONTRACT, TORT OR OTHERWISE, ARISING FROM, OUT OF OR IN CONNECTION WITH THE SOFTWARE OR THE USE OR OTHER DEALINGS IN THE SOFTWARE."
      ],
      "metadata": {
        "id": "4qeq7jYtnxAE"
      },
      "id": "4qeq7jYtnxAE"
    },
    {
      "cell_type": "markdown",
      "id": "15c439db",
      "metadata": {
        "id": "15c439db"
      },
      "source": [
        "### DATA PROCESSING"
      ]
    },
    {
      "cell_type": "code",
      "execution_count": null,
      "id": "f23f9145",
      "metadata": {
        "id": "f23f9145"
      },
      "outputs": [],
      "source": [
        "import numpy as np # linear algebra\n",
        "import pandas as pd # data processing, CSV file I/O (e.g. pd.read_csv)\n",
        "import seaborn as sns\n",
        "\n",
        "import matplotlib.pyplot as plt\n",
        "\n",
        "import warnings\n",
        "warnings.filterwarnings(\"ignore\")"
      ]
    },
    {
      "cell_type": "code",
      "execution_count": null,
      "id": "EcDy_dKH_MdG",
      "metadata": {
        "id": "EcDy_dKH_MdG"
      },
      "outputs": [],
      "source": [
        "bank_data = pd.read_csv('bank-direct-marketing-campaigns.csv')"
      ]
    },
    {
      "cell_type": "code",
      "execution_count": null,
      "id": "b3b73979",
      "metadata": {
        "colab": {
          "base_uri": "https://localhost:8080/",
          "height": 270
        },
        "id": "b3b73979",
        "outputId": "af3172ce-978b-45ac-96b9-f8c3dbf44af1"
      },
      "outputs": [
        {
          "data": {
            "text/html": [
              "<div>\n",
              "<style scoped>\n",
              "    .dataframe tbody tr th:only-of-type {\n",
              "        vertical-align: middle;\n",
              "    }\n",
              "\n",
              "    .dataframe tbody tr th {\n",
              "        vertical-align: top;\n",
              "    }\n",
              "\n",
              "    .dataframe thead th {\n",
              "        text-align: right;\n",
              "    }\n",
              "</style>\n",
              "<table border=\"1\" class=\"dataframe\">\n",
              "  <thead>\n",
              "    <tr style=\"text-align: right;\">\n",
              "      <th></th>\n",
              "      <th>age</th>\n",
              "      <th>job</th>\n",
              "      <th>marital</th>\n",
              "      <th>education</th>\n",
              "      <th>default</th>\n",
              "      <th>housing</th>\n",
              "      <th>loan</th>\n",
              "      <th>contact</th>\n",
              "      <th>month</th>\n",
              "      <th>day_of_week</th>\n",
              "      <th>campaign</th>\n",
              "      <th>pdays</th>\n",
              "      <th>previous</th>\n",
              "      <th>poutcome</th>\n",
              "      <th>emp.var.rate</th>\n",
              "      <th>cons.price.idx</th>\n",
              "      <th>cons.conf.idx</th>\n",
              "      <th>euribor3m</th>\n",
              "      <th>nr.employed</th>\n",
              "      <th>y</th>\n",
              "    </tr>\n",
              "  </thead>\n",
              "  <tbody>\n",
              "    <tr>\n",
              "      <th>0</th>\n",
              "      <td>56</td>\n",
              "      <td>housemaid</td>\n",
              "      <td>married</td>\n",
              "      <td>basic.4y</td>\n",
              "      <td>no</td>\n",
              "      <td>no</td>\n",
              "      <td>no</td>\n",
              "      <td>telephone</td>\n",
              "      <td>may</td>\n",
              "      <td>mon</td>\n",
              "      <td>1</td>\n",
              "      <td>999</td>\n",
              "      <td>0</td>\n",
              "      <td>nonexistent</td>\n",
              "      <td>1.1</td>\n",
              "      <td>93.994</td>\n",
              "      <td>-36.4</td>\n",
              "      <td>4.857</td>\n",
              "      <td>5191.0</td>\n",
              "      <td>no</td>\n",
              "    </tr>\n",
              "    <tr>\n",
              "      <th>1</th>\n",
              "      <td>57</td>\n",
              "      <td>services</td>\n",
              "      <td>married</td>\n",
              "      <td>high.school</td>\n",
              "      <td>unknown</td>\n",
              "      <td>no</td>\n",
              "      <td>no</td>\n",
              "      <td>telephone</td>\n",
              "      <td>may</td>\n",
              "      <td>mon</td>\n",
              "      <td>1</td>\n",
              "      <td>999</td>\n",
              "      <td>0</td>\n",
              "      <td>nonexistent</td>\n",
              "      <td>1.1</td>\n",
              "      <td>93.994</td>\n",
              "      <td>-36.4</td>\n",
              "      <td>4.857</td>\n",
              "      <td>5191.0</td>\n",
              "      <td>no</td>\n",
              "    </tr>\n",
              "    <tr>\n",
              "      <th>2</th>\n",
              "      <td>37</td>\n",
              "      <td>services</td>\n",
              "      <td>married</td>\n",
              "      <td>high.school</td>\n",
              "      <td>no</td>\n",
              "      <td>yes</td>\n",
              "      <td>no</td>\n",
              "      <td>telephone</td>\n",
              "      <td>may</td>\n",
              "      <td>mon</td>\n",
              "      <td>1</td>\n",
              "      <td>999</td>\n",
              "      <td>0</td>\n",
              "      <td>nonexistent</td>\n",
              "      <td>1.1</td>\n",
              "      <td>93.994</td>\n",
              "      <td>-36.4</td>\n",
              "      <td>4.857</td>\n",
              "      <td>5191.0</td>\n",
              "      <td>no</td>\n",
              "    </tr>\n",
              "    <tr>\n",
              "      <th>3</th>\n",
              "      <td>40</td>\n",
              "      <td>admin.</td>\n",
              "      <td>married</td>\n",
              "      <td>basic.6y</td>\n",
              "      <td>no</td>\n",
              "      <td>no</td>\n",
              "      <td>no</td>\n",
              "      <td>telephone</td>\n",
              "      <td>may</td>\n",
              "      <td>mon</td>\n",
              "      <td>1</td>\n",
              "      <td>999</td>\n",
              "      <td>0</td>\n",
              "      <td>nonexistent</td>\n",
              "      <td>1.1</td>\n",
              "      <td>93.994</td>\n",
              "      <td>-36.4</td>\n",
              "      <td>4.857</td>\n",
              "      <td>5191.0</td>\n",
              "      <td>no</td>\n",
              "    </tr>\n",
              "    <tr>\n",
              "      <th>4</th>\n",
              "      <td>56</td>\n",
              "      <td>services</td>\n",
              "      <td>married</td>\n",
              "      <td>high.school</td>\n",
              "      <td>no</td>\n",
              "      <td>no</td>\n",
              "      <td>yes</td>\n",
              "      <td>telephone</td>\n",
              "      <td>may</td>\n",
              "      <td>mon</td>\n",
              "      <td>1</td>\n",
              "      <td>999</td>\n",
              "      <td>0</td>\n",
              "      <td>nonexistent</td>\n",
              "      <td>1.1</td>\n",
              "      <td>93.994</td>\n",
              "      <td>-36.4</td>\n",
              "      <td>4.857</td>\n",
              "      <td>5191.0</td>\n",
              "      <td>no</td>\n",
              "    </tr>\n",
              "  </tbody>\n",
              "</table>\n",
              "</div>"
            ],
            "text/plain": [
              "   age        job  marital    education  default housing loan    contact  \\\n",
              "0   56  housemaid  married     basic.4y       no      no   no  telephone   \n",
              "1   57   services  married  high.school  unknown      no   no  telephone   \n",
              "2   37   services  married  high.school       no     yes   no  telephone   \n",
              "3   40     admin.  married     basic.6y       no      no   no  telephone   \n",
              "4   56   services  married  high.school       no      no  yes  telephone   \n",
              "\n",
              "  month day_of_week  campaign  pdays  previous     poutcome  emp.var.rate  \\\n",
              "0   may         mon         1    999         0  nonexistent           1.1   \n",
              "1   may         mon         1    999         0  nonexistent           1.1   \n",
              "2   may         mon         1    999         0  nonexistent           1.1   \n",
              "3   may         mon         1    999         0  nonexistent           1.1   \n",
              "4   may         mon         1    999         0  nonexistent           1.1   \n",
              "\n",
              "   cons.price.idx  cons.conf.idx  euribor3m  nr.employed   y  \n",
              "0          93.994          -36.4      4.857       5191.0  no  \n",
              "1          93.994          -36.4      4.857       5191.0  no  \n",
              "2          93.994          -36.4      4.857       5191.0  no  \n",
              "3          93.994          -36.4      4.857       5191.0  no  \n",
              "4          93.994          -36.4      4.857       5191.0  no  "
            ]
          },
          "execution_count": 3,
          "metadata": {},
          "output_type": "execute_result"
        }
      ],
      "source": [
        "bank_data.head()"
      ]
    },
    {
      "cell_type": "code",
      "execution_count": null,
      "id": "3bbe84b5",
      "metadata": {
        "colab": {
          "base_uri": "https://localhost:8080/"
        },
        "id": "3bbe84b5",
        "outputId": "e7e61b2a-e800-4c5a-b8de-07dd9be1ad57"
      },
      "outputs": [
        {
          "data": {
            "text/plain": [
              "(41188, 20)"
            ]
          },
          "execution_count": 4,
          "metadata": {},
          "output_type": "execute_result"
        }
      ],
      "source": [
        "bank_data.shape"
      ]
    },
    {
      "cell_type": "code",
      "execution_count": null,
      "id": "46a5491f",
      "metadata": {
        "colab": {
          "base_uri": "https://localhost:8080/"
        },
        "id": "46a5491f",
        "outputId": "899ee2a7-955b-4e79-ae8b-8f80bde20a1c"
      },
      "outputs": [
        {
          "name": "stdout",
          "output_type": "stream",
          "text": [
            "<class 'pandas.core.frame.DataFrame'>\n",
            "RangeIndex: 41188 entries, 0 to 41187\n",
            "Data columns (total 20 columns):\n",
            " #   Column          Non-Null Count  Dtype  \n",
            "---  ------          --------------  -----  \n",
            " 0   age             41188 non-null  int64  \n",
            " 1   job             41188 non-null  object \n",
            " 2   marital         41188 non-null  object \n",
            " 3   education       41188 non-null  object \n",
            " 4   default         41188 non-null  object \n",
            " 5   housing         41188 non-null  object \n",
            " 6   loan            41188 non-null  object \n",
            " 7   contact         41188 non-null  object \n",
            " 8   month           41188 non-null  object \n",
            " 9   day_of_week     41188 non-null  object \n",
            " 10  campaign        41188 non-null  int64  \n",
            " 11  pdays           41188 non-null  int64  \n",
            " 12  previous        41188 non-null  int64  \n",
            " 13  poutcome        41188 non-null  object \n",
            " 14  emp.var.rate    41188 non-null  float64\n",
            " 15  cons.price.idx  41188 non-null  float64\n",
            " 16  cons.conf.idx   41188 non-null  float64\n",
            " 17  euribor3m       41188 non-null  float64\n",
            " 18  nr.employed     41188 non-null  float64\n",
            " 19  y               41188 non-null  object \n",
            "dtypes: float64(5), int64(4), object(11)\n",
            "memory usage: 6.3+ MB\n"
          ]
        }
      ],
      "source": [
        "bank_data.info()"
      ]
    },
    {
      "cell_type": "code",
      "execution_count": null,
      "id": "0951ad2b",
      "metadata": {
        "colab": {
          "base_uri": "https://localhost:8080/",
          "height": 300
        },
        "id": "0951ad2b",
        "outputId": "666d061f-e692-46a5-ca1b-2e220abe894b"
      },
      "outputs": [
        {
          "data": {
            "text/html": [
              "<div>\n",
              "<style scoped>\n",
              "    .dataframe tbody tr th:only-of-type {\n",
              "        vertical-align: middle;\n",
              "    }\n",
              "\n",
              "    .dataframe tbody tr th {\n",
              "        vertical-align: top;\n",
              "    }\n",
              "\n",
              "    .dataframe thead th {\n",
              "        text-align: right;\n",
              "    }\n",
              "</style>\n",
              "<table border=\"1\" class=\"dataframe\">\n",
              "  <thead>\n",
              "    <tr style=\"text-align: right;\">\n",
              "      <th></th>\n",
              "      <th>age</th>\n",
              "      <th>campaign</th>\n",
              "      <th>pdays</th>\n",
              "      <th>previous</th>\n",
              "      <th>emp.var.rate</th>\n",
              "      <th>cons.price.idx</th>\n",
              "      <th>cons.conf.idx</th>\n",
              "      <th>euribor3m</th>\n",
              "      <th>nr.employed</th>\n",
              "    </tr>\n",
              "  </thead>\n",
              "  <tbody>\n",
              "    <tr>\n",
              "      <th>count</th>\n",
              "      <td>41188.00000</td>\n",
              "      <td>41188.000000</td>\n",
              "      <td>41188.000000</td>\n",
              "      <td>41188.000000</td>\n",
              "      <td>41188.000000</td>\n",
              "      <td>41188.000000</td>\n",
              "      <td>41188.000000</td>\n",
              "      <td>41188.000000</td>\n",
              "      <td>41188.000000</td>\n",
              "    </tr>\n",
              "    <tr>\n",
              "      <th>mean</th>\n",
              "      <td>40.02406</td>\n",
              "      <td>2.567593</td>\n",
              "      <td>962.475454</td>\n",
              "      <td>0.172963</td>\n",
              "      <td>0.081886</td>\n",
              "      <td>93.575664</td>\n",
              "      <td>-40.502600</td>\n",
              "      <td>3.621291</td>\n",
              "      <td>5167.035911</td>\n",
              "    </tr>\n",
              "    <tr>\n",
              "      <th>std</th>\n",
              "      <td>10.42125</td>\n",
              "      <td>2.770014</td>\n",
              "      <td>186.910907</td>\n",
              "      <td>0.494901</td>\n",
              "      <td>1.570960</td>\n",
              "      <td>0.578840</td>\n",
              "      <td>4.628198</td>\n",
              "      <td>1.734447</td>\n",
              "      <td>72.251528</td>\n",
              "    </tr>\n",
              "    <tr>\n",
              "      <th>min</th>\n",
              "      <td>17.00000</td>\n",
              "      <td>1.000000</td>\n",
              "      <td>0.000000</td>\n",
              "      <td>0.000000</td>\n",
              "      <td>-3.400000</td>\n",
              "      <td>92.201000</td>\n",
              "      <td>-50.800000</td>\n",
              "      <td>0.634000</td>\n",
              "      <td>4963.600000</td>\n",
              "    </tr>\n",
              "    <tr>\n",
              "      <th>25%</th>\n",
              "      <td>32.00000</td>\n",
              "      <td>1.000000</td>\n",
              "      <td>999.000000</td>\n",
              "      <td>0.000000</td>\n",
              "      <td>-1.800000</td>\n",
              "      <td>93.075000</td>\n",
              "      <td>-42.700000</td>\n",
              "      <td>1.344000</td>\n",
              "      <td>5099.100000</td>\n",
              "    </tr>\n",
              "    <tr>\n",
              "      <th>50%</th>\n",
              "      <td>38.00000</td>\n",
              "      <td>2.000000</td>\n",
              "      <td>999.000000</td>\n",
              "      <td>0.000000</td>\n",
              "      <td>1.100000</td>\n",
              "      <td>93.749000</td>\n",
              "      <td>-41.800000</td>\n",
              "      <td>4.857000</td>\n",
              "      <td>5191.000000</td>\n",
              "    </tr>\n",
              "    <tr>\n",
              "      <th>75%</th>\n",
              "      <td>47.00000</td>\n",
              "      <td>3.000000</td>\n",
              "      <td>999.000000</td>\n",
              "      <td>0.000000</td>\n",
              "      <td>1.400000</td>\n",
              "      <td>93.994000</td>\n",
              "      <td>-36.400000</td>\n",
              "      <td>4.961000</td>\n",
              "      <td>5228.100000</td>\n",
              "    </tr>\n",
              "    <tr>\n",
              "      <th>max</th>\n",
              "      <td>98.00000</td>\n",
              "      <td>56.000000</td>\n",
              "      <td>999.000000</td>\n",
              "      <td>7.000000</td>\n",
              "      <td>1.400000</td>\n",
              "      <td>94.767000</td>\n",
              "      <td>-26.900000</td>\n",
              "      <td>5.045000</td>\n",
              "      <td>5228.100000</td>\n",
              "    </tr>\n",
              "  </tbody>\n",
              "</table>\n",
              "</div>"
            ],
            "text/plain": [
              "               age      campaign         pdays      previous  emp.var.rate  \\\n",
              "count  41188.00000  41188.000000  41188.000000  41188.000000  41188.000000   \n",
              "mean      40.02406      2.567593    962.475454      0.172963      0.081886   \n",
              "std       10.42125      2.770014    186.910907      0.494901      1.570960   \n",
              "min       17.00000      1.000000      0.000000      0.000000     -3.400000   \n",
              "25%       32.00000      1.000000    999.000000      0.000000     -1.800000   \n",
              "50%       38.00000      2.000000    999.000000      0.000000      1.100000   \n",
              "75%       47.00000      3.000000    999.000000      0.000000      1.400000   \n",
              "max       98.00000     56.000000    999.000000      7.000000      1.400000   \n",
              "\n",
              "       cons.price.idx  cons.conf.idx     euribor3m   nr.employed  \n",
              "count    41188.000000   41188.000000  41188.000000  41188.000000  \n",
              "mean        93.575664     -40.502600      3.621291   5167.035911  \n",
              "std          0.578840       4.628198      1.734447     72.251528  \n",
              "min         92.201000     -50.800000      0.634000   4963.600000  \n",
              "25%         93.075000     -42.700000      1.344000   5099.100000  \n",
              "50%         93.749000     -41.800000      4.857000   5191.000000  \n",
              "75%         93.994000     -36.400000      4.961000   5228.100000  \n",
              "max         94.767000     -26.900000      5.045000   5228.100000  "
            ]
          },
          "execution_count": 6,
          "metadata": {},
          "output_type": "execute_result"
        }
      ],
      "source": [
        "bank_data.describe()"
      ]
    },
    {
      "cell_type": "code",
      "execution_count": null,
      "id": "4d4b01ac",
      "metadata": {
        "colab": {
          "base_uri": "https://localhost:8080/"
        },
        "id": "4d4b01ac",
        "outputId": "ac143e6a-b3fa-4ef6-9952-d1eb3f6da2fd"
      },
      "outputs": [
        {
          "data": {
            "text/plain": [
              "age               0\n",
              "job               0\n",
              "marital           0\n",
              "education         0\n",
              "default           0\n",
              "housing           0\n",
              "loan              0\n",
              "contact           0\n",
              "month             0\n",
              "day_of_week       0\n",
              "campaign          0\n",
              "pdays             0\n",
              "previous          0\n",
              "poutcome          0\n",
              "emp.var.rate      0\n",
              "cons.price.idx    0\n",
              "cons.conf.idx     0\n",
              "euribor3m         0\n",
              "nr.employed       0\n",
              "y                 0\n",
              "dtype: int64"
            ]
          },
          "execution_count": 7,
          "metadata": {},
          "output_type": "execute_result"
        }
      ],
      "source": [
        "#Check the null values in each feature\n",
        "bank_data.isnull().sum()"
      ]
    },
    {
      "cell_type": "code",
      "execution_count": null,
      "id": "426ca742",
      "metadata": {
        "colab": {
          "base_uri": "https://localhost:8080/"
        },
        "id": "426ca742",
        "outputId": "f15071b4-4e91-44d1-8ec9-5b300e1d39a6"
      },
      "outputs": [
        {
          "data": {
            "text/plain": [
              "no     36548\n",
              "yes     4640\n",
              "Name: y, dtype: int64"
            ]
          },
          "execution_count": 8,
          "metadata": {},
          "output_type": "execute_result"
        }
      ],
      "source": [
        "#Frequency of 'y'\n",
        "# Y stands for the result whether client is likely to subscribe to a term deposit\n",
        "bank_data['y'].value_counts()"
      ]
    },
    {
      "cell_type": "code",
      "execution_count": null,
      "id": "KJYws0P3_y_S",
      "metadata": {
        "colab": {
          "base_uri": "https://localhost:8080/",
          "height": 467
        },
        "id": "KJYws0P3_y_S",
        "outputId": "def1f96f-d8aa-4ff4-f280-ef2f58d910e2"
      },
      "outputs": [
        {
          "data": {
            "text/plain": [
              "<Axes: xlabel='y', ylabel='count'>"
            ]
          },
          "execution_count": 9,
          "metadata": {},
          "output_type": "execute_result"
        },
        {
          "data": {
            "image/png": "[encoded data removed]",
            "text/plain": [
              "<Figure size 640x480 with 1 Axes>"
            ]
          },
          "metadata": {},
          "output_type": "display_data"
        }
      ],
      "source": [
        "# Plotting the 'y' frequency\n",
        "sns.countplot(data=bank_data, x='y')"
      ]
    },
    {
      "cell_type": "code",
      "execution_count": null,
      "id": "Mfhbh_K6AUkP",
      "metadata": {
        "colab": {
          "base_uri": "https://localhost:8080/"
        },
        "id": "Mfhbh_K6AUkP",
        "outputId": "117186aa-6343-43ac-bc87-82ccebe5b5ec"
      },
      "outputs": [
        {
          "data": {
            "text/plain": [
              "no     0.887346\n",
              "yes    0.112654\n",
              "Name: y, dtype: float64"
            ]
          },
          "execution_count": 10,
          "metadata": {},
          "output_type": "execute_result"
        }
      ],
      "source": [
        "#Normalizing the frequency table of 'Subscribed' variable\n",
        "bank_data['y'].value_counts(normalize=True)"
      ]
    },
    {
      "cell_type": "markdown",
      "id": "8ogmDOyTAzwF",
      "metadata": {
        "id": "8ogmDOyTAzwF"
      },
      "source": [
        "From the above analysis we can see that only  4640 people out of 41188 have subscribed which is roughly 11%"
      ]
    },
    {
      "cell_type": "markdown",
      "id": "Mds9Yj0KNzY4",
      "metadata": {
        "id": "Mds9Yj0KNzY4"
      },
      "source": [
        "#### JOB DESCRIPTION"
      ]
    },
    {
      "cell_type": "code",
      "execution_count": null,
      "id": "xLm3SYnEAuuN",
      "metadata": {
        "colab": {
          "base_uri": "https://localhost:8080/"
        },
        "id": "xLm3SYnEAuuN",
        "outputId": "c2a5e675-a3be-44d4-a8bf-568ee796cd8d"
      },
      "outputs": [
        {
          "data": {
            "text/plain": [
              "admin.           10422\n",
              "blue-collar       9254\n",
              "technician        6743\n",
              "services          3969\n",
              "management        2924\n",
              "retired           1720\n",
              "entrepreneur      1456\n",
              "self-employed     1421\n",
              "housemaid         1060\n",
              "unemployed        1014\n",
              "student            875\n",
              "unknown            330\n",
              "Name: job, dtype: int64"
            ]
          },
          "execution_count": 11,
          "metadata": {},
          "output_type": "execute_result"
        }
      ],
      "source": [
        "#Frequency table\n",
        "bank_data['job'].value_counts()"
      ]
    },
    {
      "cell_type": "code",
      "execution_count": null,
      "id": "NIRvLPiaBB6H",
      "metadata": {
        "colab": {
          "base_uri": "https://localhost:8080/",
          "height": 619
        },
        "id": "NIRvLPiaBB6H",
        "outputId": "07b63d17-f930-4a6a-d41a-0e0de268b16a"
      },
      "outputs": [
        {
          "data": {
            "image/png": "[encoded data removed]",
            "text/plain": [
              "<Figure size 1000x600 with 1 Axes>"
            ]
          },
          "metadata": {},
          "output_type": "display_data"
        }
      ],
      "source": [
        "# Plotting the job frequency table\n",
        "sns.set_context('notebook')\n",
        "bank_data['job'].value_counts().plot(kind='bar', figsize=(10,6));"
      ]
    },
    {
      "cell_type": "markdown",
      "id": "4GBWWJjZN4WN",
      "metadata": {
        "id": "4GBWWJjZN4WN"
      },
      "source": [
        "#### Marital Rate"
      ]
    },
    {
      "cell_type": "code",
      "execution_count": null,
      "id": "3w3mTDrwBFuw",
      "metadata": {
        "colab": {
          "base_uri": "https://localhost:8080/",
          "height": 169
        },
        "id": "3w3mTDrwBFuw",
        "outputId": "8bfcee39-a3c6-4936-a4b7-3ce2a4531515"
      },
      "outputs": [
        {
          "data": {
            "text/plain": [
              "married     24928\n",
              "single      11568\n",
              "divorced     4612\n",
              "unknown        80\n",
              "Name: marital, dtype: int64"
            ]
          },
          "execution_count": 13,
          "metadata": {},
          "output_type": "execute_result"
        }
      ],
      "source": [
        "bank_data['marital'].value_counts()"
      ]
    },
    {
      "cell_type": "code",
      "execution_count": null,
      "id": "IHWWsbbJBTLb",
      "metadata": {
        "colab": {
          "base_uri": "https://localhost:8080/",
          "height": 467
        },
        "id": "IHWWsbbJBTLb",
        "outputId": "d6dd9666-7e4c-46e0-e7a2-fee368ce2be3"
      },
      "outputs": [
        {
          "data": {
            "text/plain": [
              "<Axes: xlabel='marital', ylabel='count'>"
            ]
          },
          "execution_count": 14,
          "metadata": {},
          "output_type": "execute_result"
        },
        {
          "data": {
            "image/png": "[encoded data removed]",
            "text/plain": [
              "<Figure size 640x480 with 1 Axes>"
            ]
          },
          "metadata": {},
          "output_type": "display_data"
        }
      ],
      "source": [
        "sns.countplot(data=bank_data, x='marital')"
      ]
    },
    {
      "cell_type": "code",
      "execution_count": null,
      "id": "BV5cYJteBZ9L",
      "metadata": {
        "colab": {
          "base_uri": "https://localhost:8080/",
          "height": 467
        },
        "id": "BV5cYJteBZ9L",
        "outputId": "dac5829d-8e36-4b34-ad1a-d98038262a65"
      },
      "outputs": [
        {
          "data": {
            "text/plain": [
              "<Axes: xlabel='marital', ylabel='count'>"
            ]
          },
          "execution_count": 15,
          "metadata": {},
          "output_type": "execute_result"
        },
        {
          "data": {
            "image/png": "[encoded data removed]",
            "text/plain": [
              "<Figure size 640x480 with 1 Axes>"
            ]
          },
          "metadata": {},
          "output_type": "display_data"
        }
      ],
      "source": [
        "sns.countplot(data=bank_data, x='marital', hue='y')"
      ]
    },
    {
      "cell_type": "markdown",
      "id": "5wUxk9wGN9Tn",
      "metadata": {
        "id": "5wUxk9wGN9Tn"
      },
      "source": [
        "#### Education Level"
      ]
    },
    {
      "cell_type": "code",
      "execution_count": null,
      "id": "peSIl-XgEo5a",
      "metadata": {
        "colab": {
          "base_uri": "https://localhost:8080/"
        },
        "id": "peSIl-XgEo5a",
        "outputId": "2fd07d64-a0d8-4549-f164-c514b11bfdd9"
      },
      "outputs": [
        {
          "data": {
            "text/plain": [
              "university.degree      12168\n",
              "high.school             9515\n",
              "basic.9y                6045\n",
              "professional.course     5243\n",
              "basic.4y                4176\n",
              "basic.6y                2292\n",
              "unknown                 1731\n",
              "illiterate                18\n",
              "Name: education, dtype: int64"
            ]
          },
          "execution_count": 16,
          "metadata": {},
          "output_type": "execute_result"
        }
      ],
      "source": [
        "bank_data['education'].value_counts()"
      ]
    },
    {
      "cell_type": "code",
      "execution_count": null,
      "id": "qI6zF0F8Erm8",
      "metadata": {
        "colab": {
          "base_uri": "https://localhost:8080/",
          "height": 696
        },
        "id": "qI6zF0F8Erm8",
        "outputId": "f6ef84b5-c906-40ba-c205-8f53a6146b86"
      },
      "outputs": [
        {
          "data": {
            "image/png": "[encoded data removed]",
            "text/plain": [
              "<Figure size 1000x800 with 1 Axes>"
            ]
          },
          "metadata": {},
          "output_type": "display_data"
        }
      ],
      "source": [
        "plt.figure(figsize=(10, 8)) # set the size of the figure\n",
        "sns.countplot(data=bank_data, x='education') # create the countplot\n",
        "plt.show()"
      ]
    },
    {
      "cell_type": "code",
      "execution_count": null,
      "id": "6rimH3h8Ezg7",
      "metadata": {
        "colab": {
          "base_uri": "https://localhost:8080/",
          "height": 696
        },
        "id": "6rimH3h8Ezg7",
        "outputId": "30f04d34-b73f-4155-eae5-e7b502f14348"
      },
      "outputs": [
        {
          "data": {
            "image/png": "[encoded data removed]",
            "text/plain": [
              "<Figure size 1000x800 with 1 Axes>"
            ]
          },
          "metadata": {},
          "output_type": "display_data"
        }
      ],
      "source": [
        "plt.figure(figsize=(10, 8)) # set the size of the figure\n",
        "sns.countplot(data=bank_data, x='education', hue = 'y') # create the countplot\n",
        "plt.show()"
      ]
    },
    {
      "cell_type": "markdown",
      "id": "8l0sk8k7G3Rg",
      "metadata": {
        "id": "8l0sk8k7G3Rg"
      },
      "source": [
        "Based on the plot, we can assume people who have high degree tend to subscribe to a term deposit."
      ]
    },
    {
      "cell_type": "markdown",
      "id": "PWYLc0ZLOAqQ",
      "metadata": {
        "id": "PWYLc0ZLOAqQ"
      },
      "source": [
        "#### Distribution of Age"
      ]
    },
    {
      "cell_type": "code",
      "execution_count": null,
      "id": "i5fq-wwBBmNp",
      "metadata": {
        "colab": {
          "base_uri": "https://localhost:8080/",
          "height": 449
        },
        "id": "i5fq-wwBBmNp",
        "outputId": "61d0f0c8-2a52-49a9-8cfd-519b163782c6"
      },
      "outputs": [
        {
          "data": {
            "image/png": "[encoded data removed]",
            "text/plain": [
              "<Figure size 640x480 with 1 Axes>"
            ]
          },
          "metadata": {},
          "output_type": "display_data"
        }
      ],
      "source": [
        "sns.distplot(bank_data['age']);"
      ]
    },
    {
      "cell_type": "code",
      "execution_count": null,
      "id": "-dedPEIhByZw",
      "metadata": {
        "colab": {
          "base_uri": "https://localhost:8080/"
        },
        "id": "-dedPEIhByZw",
        "outputId": "77e99899-e345-45df-f2ab-da4482db4762"
      },
      "outputs": [
        {
          "name": "stdout",
          "output_type": "stream",
          "text": [
            "y                no   yes\n",
            "job                      \n",
            "admin.         9070  1352\n",
            "blue-collar    8616   638\n",
            "entrepreneur   1332   124\n",
            "housemaid       954   106\n",
            "management     2596   328\n",
            "retired        1286   434\n",
            "self-employed  1272   149\n",
            "services       3646   323\n",
            "student         600   275\n",
            "technician     6013   730\n",
            "unemployed      870   144\n",
            "unknown         293    37\n"
          ]
        }
      ],
      "source": [
        "#job vs subscribed\n",
        "print(pd.crosstab(bank_data['job'],bank_data['y']))"
      ]
    },
    {
      "cell_type": "code",
      "execution_count": null,
      "id": "XtC6vqpfB5l1",
      "metadata": {
        "id": "XtC6vqpfB5l1"
      },
      "outputs": [],
      "source": [
        "job = pd.crosstab(bank_data['job'],bank_data['y'])\n",
        "job_norm = job.div(job.sum(1).astype(float), axis=0)"
      ]
    },
    {
      "cell_type": "code",
      "execution_count": null,
      "id": "qPj3Kb0RB_Wo",
      "metadata": {
        "colab": {
          "base_uri": "https://localhost:8080/",
          "height": 615
        },
        "id": "qPj3Kb0RB_Wo",
        "outputId": "598e80b3-a80c-43db-cb22-5bbd175b1571"
      },
      "outputs": [
        {
          "data": {
            "image/png": "[encoded data removed]",
            "text/plain": [
              "<Figure size 800x600 with 1 Axes>"
            ]
          },
          "metadata": {},
          "output_type": "display_data"
        }
      ],
      "source": [
        "job_norm.plot.bar(stacked=True,figsize=(8,6));"
      ]
    },
    {
      "cell_type": "markdown",
      "id": "K9xaZimnCGH_",
      "metadata": {
        "id": "K9xaZimnCGH_"
      },
      "source": [
        "From the above graph we can infer that students and retired people have higher chances of subscribing to a term deposit, which is surprising as students generally do not subscribe to a term deposit. The possible reason is that the number of students in the dataset is less and comparatively to other job types, more students have subscribed to a term deposit."
      ]
    },
    {
      "cell_type": "code",
      "execution_count": null,
      "id": "MYWuFPfFCHAM",
      "metadata": {
        "colab": {
          "base_uri": "https://localhost:8080/",
          "height": 206
        },
        "id": "MYWuFPfFCHAM",
        "outputId": "1d49836f-f7d5-4ee9-f5d4-e33143757b48"
      },
      "outputs": [
        {
          "data": {
            "text/html": [
              "<div>\n",
              "<style scoped>\n",
              "    .dataframe tbody tr th:only-of-type {\n",
              "        vertical-align: middle;\n",
              "    }\n",
              "\n",
              "    .dataframe tbody tr th {\n",
              "        vertical-align: top;\n",
              "    }\n",
              "\n",
              "    .dataframe thead th {\n",
              "        text-align: right;\n",
              "    }\n",
              "</style>\n",
              "<table border=\"1\" class=\"dataframe\">\n",
              "  <thead>\n",
              "    <tr style=\"text-align: right;\">\n",
              "      <th>y</th>\n",
              "      <th>no</th>\n",
              "      <th>yes</th>\n",
              "    </tr>\n",
              "    <tr>\n",
              "      <th>marital</th>\n",
              "      <th></th>\n",
              "      <th></th>\n",
              "    </tr>\n",
              "  </thead>\n",
              "  <tbody>\n",
              "    <tr>\n",
              "      <th>divorced</th>\n",
              "      <td>4136</td>\n",
              "      <td>476</td>\n",
              "    </tr>\n",
              "    <tr>\n",
              "      <th>married</th>\n",
              "      <td>22396</td>\n",
              "      <td>2532</td>\n",
              "    </tr>\n",
              "    <tr>\n",
              "      <th>single</th>\n",
              "      <td>9948</td>\n",
              "      <td>1620</td>\n",
              "    </tr>\n",
              "    <tr>\n",
              "      <th>unknown</th>\n",
              "      <td>68</td>\n",
              "      <td>12</td>\n",
              "    </tr>\n",
              "  </tbody>\n",
              "</table>\n",
              "</div>"
            ],
            "text/plain": [
              "y            no   yes\n",
              "marital              \n",
              "divorced   4136   476\n",
              "married   22396  2532\n",
              "single     9948  1620\n",
              "unknown      68    12"
            ]
          },
          "execution_count": 23,
          "metadata": {},
          "output_type": "execute_result"
        }
      ],
      "source": [
        "#Marital status vs subscribed\n",
        "pd.crosstab(bank_data['marital'],bank_data['y'])"
      ]
    },
    {
      "cell_type": "code",
      "execution_count": null,
      "id": "iitt9ieLCUS6",
      "metadata": {
        "colab": {
          "base_uri": "https://localhost:8080/",
          "height": 206
        },
        "id": "iitt9ieLCUS6",
        "outputId": "1469a656-230b-4de4-ae9a-5a431163cee7"
      },
      "outputs": [
        {
          "data": {
            "text/html": [
              "<div>\n",
              "<style scoped>\n",
              "    .dataframe tbody tr th:only-of-type {\n",
              "        vertical-align: middle;\n",
              "    }\n",
              "\n",
              "    .dataframe tbody tr th {\n",
              "        vertical-align: top;\n",
              "    }\n",
              "\n",
              "    .dataframe thead th {\n",
              "        text-align: right;\n",
              "    }\n",
              "</style>\n",
              "<table border=\"1\" class=\"dataframe\">\n",
              "  <thead>\n",
              "    <tr style=\"text-align: right;\">\n",
              "      <th>y</th>\n",
              "      <th>no</th>\n",
              "      <th>yes</th>\n",
              "    </tr>\n",
              "    <tr>\n",
              "      <th>marital</th>\n",
              "      <th></th>\n",
              "      <th></th>\n",
              "    </tr>\n",
              "  </thead>\n",
              "  <tbody>\n",
              "    <tr>\n",
              "      <th>divorced</th>\n",
              "      <td>0.896791</td>\n",
              "      <td>0.103209</td>\n",
              "    </tr>\n",
              "    <tr>\n",
              "      <th>married</th>\n",
              "      <td>0.898427</td>\n",
              "      <td>0.101573</td>\n",
              "    </tr>\n",
              "    <tr>\n",
              "      <th>single</th>\n",
              "      <td>0.859959</td>\n",
              "      <td>0.140041</td>\n",
              "    </tr>\n",
              "    <tr>\n",
              "      <th>unknown</th>\n",
              "      <td>0.850000</td>\n",
              "      <td>0.150000</td>\n",
              "    </tr>\n",
              "  </tbody>\n",
              "</table>\n",
              "</div>"
            ],
            "text/plain": [
              "y               no       yes\n",
              "marital                     \n",
              "divorced  0.896791  0.103209\n",
              "married   0.898427  0.101573\n",
              "single    0.859959  0.140041\n",
              "unknown   0.850000  0.150000"
            ]
          },
          "execution_count": 24,
          "metadata": {},
          "output_type": "execute_result"
        }
      ],
      "source": [
        "marital = pd.crosstab(bank_data['marital'],bank_data['y'])\n",
        "marital_norm = marital.div(marital.sum(1).astype(float), axis=0)\n",
        "marital_norm"
      ]
    },
    {
      "cell_type": "code",
      "execution_count": null,
      "id": "IE3YUBI9CYnT",
      "metadata": {
        "colab": {
          "base_uri": "https://localhost:8080/",
          "height": 353
        },
        "id": "IE3YUBI9CYnT",
        "outputId": "dca42a06-be4f-4609-9202-cf8aca8ff5fc"
      },
      "outputs": [
        {
          "data": {
            "image/png": "[encoded data removed]",
            "text/plain": [
              "<Figure size 800x300 with 1 Axes>"
            ]
          },
          "metadata": {},
          "output_type": "display_data"
        }
      ],
      "source": [
        "marital_norm.plot.bar(stacked=True, figsize=(8,3));"
      ]
    },
    {
      "cell_type": "code",
      "execution_count": null,
      "id": "8s-OSJRpCafT",
      "metadata": {
        "colab": {
          "base_uri": "https://localhost:8080/",
          "height": 175
        },
        "id": "8s-OSJRpCafT",
        "outputId": "cead0b15-a37b-4fc9-d080-6a3c08089310"
      },
      "outputs": [
        {
          "data": {
            "text/html": [
              "<div>\n",
              "<style scoped>\n",
              "    .dataframe tbody tr th:only-of-type {\n",
              "        vertical-align: middle;\n",
              "    }\n",
              "\n",
              "    .dataframe tbody tr th {\n",
              "        vertical-align: top;\n",
              "    }\n",
              "\n",
              "    .dataframe thead th {\n",
              "        text-align: right;\n",
              "    }\n",
              "</style>\n",
              "<table border=\"1\" class=\"dataframe\">\n",
              "  <thead>\n",
              "    <tr style=\"text-align: right;\">\n",
              "      <th>y</th>\n",
              "      <th>no</th>\n",
              "      <th>yes</th>\n",
              "    </tr>\n",
              "    <tr>\n",
              "      <th>default</th>\n",
              "      <th></th>\n",
              "      <th></th>\n",
              "    </tr>\n",
              "  </thead>\n",
              "  <tbody>\n",
              "    <tr>\n",
              "      <th>no</th>\n",
              "      <td>28391</td>\n",
              "      <td>4197</td>\n",
              "    </tr>\n",
              "    <tr>\n",
              "      <th>unknown</th>\n",
              "      <td>8154</td>\n",
              "      <td>443</td>\n",
              "    </tr>\n",
              "    <tr>\n",
              "      <th>yes</th>\n",
              "      <td>3</td>\n",
              "      <td>0</td>\n",
              "    </tr>\n",
              "  </tbody>\n",
              "</table>\n",
              "</div>"
            ],
            "text/plain": [
              "y           no   yes\n",
              "default             \n",
              "no       28391  4197\n",
              "unknown   8154   443\n",
              "yes          3     0"
            ]
          },
          "execution_count": 26,
          "metadata": {},
          "output_type": "execute_result"
        }
      ],
      "source": [
        "#default vs subscription\n",
        "pd.crosstab(bank_data['default'], bank_data['y'])"
      ]
    },
    {
      "cell_type": "code",
      "execution_count": null,
      "id": "X4sWtbAbComg",
      "metadata": {
        "colab": {
          "base_uri": "https://localhost:8080/",
          "height": 175
        },
        "id": "X4sWtbAbComg",
        "outputId": "69e62b98-90e9-47a5-89c8-b7b85b2ba264"
      },
      "outputs": [
        {
          "data": {
            "text/html": [
              "<div>\n",
              "<style scoped>\n",
              "    .dataframe tbody tr th:only-of-type {\n",
              "        vertical-align: middle;\n",
              "    }\n",
              "\n",
              "    .dataframe tbody tr th {\n",
              "        vertical-align: top;\n",
              "    }\n",
              "\n",
              "    .dataframe thead th {\n",
              "        text-align: right;\n",
              "    }\n",
              "</style>\n",
              "<table border=\"1\" class=\"dataframe\">\n",
              "  <thead>\n",
              "    <tr style=\"text-align: right;\">\n",
              "      <th>y</th>\n",
              "      <th>no</th>\n",
              "      <th>yes</th>\n",
              "    </tr>\n",
              "    <tr>\n",
              "      <th>default</th>\n",
              "      <th></th>\n",
              "      <th></th>\n",
              "    </tr>\n",
              "  </thead>\n",
              "  <tbody>\n",
              "    <tr>\n",
              "      <th>no</th>\n",
              "      <td>0.87121</td>\n",
              "      <td>0.12879</td>\n",
              "    </tr>\n",
              "    <tr>\n",
              "      <th>unknown</th>\n",
              "      <td>0.94847</td>\n",
              "      <td>0.05153</td>\n",
              "    </tr>\n",
              "    <tr>\n",
              "      <th>yes</th>\n",
              "      <td>1.00000</td>\n",
              "      <td>0.00000</td>\n",
              "    </tr>\n",
              "  </tbody>\n",
              "</table>\n",
              "</div>"
            ],
            "text/plain": [
              "y             no      yes\n",
              "default                  \n",
              "no       0.87121  0.12879\n",
              "unknown  0.94847  0.05153\n",
              "yes      1.00000  0.00000"
            ]
          },
          "execution_count": 27,
          "metadata": {},
          "output_type": "execute_result"
        }
      ],
      "source": [
        "dflt = pd.crosstab(bank_data['default'], bank_data['y'])\n",
        "dflt_norm = dflt.div(dflt.sum(1).astype(float), axis=0)\n",
        "dflt_norm"
      ]
    },
    {
      "cell_type": "code",
      "execution_count": null,
      "id": "fReOUIX_Cr0v",
      "metadata": {
        "colab": {
          "base_uri": "https://localhost:8080/",
          "height": 602
        },
        "id": "fReOUIX_Cr0v",
        "outputId": "31645563-8ca5-4f61-bd3d-4319d73c475b"
      },
      "outputs": [
        {
          "data": {
            "text/plain": [
              "<Axes: xlabel='default'>"
            ]
          },
          "execution_count": 28,
          "metadata": {},
          "output_type": "execute_result"
        },
        {
          "data": {
            "image/png": "[encoded data removed]",
            "text/plain": [
              "<Figure size 600x600 with 1 Axes>"
            ]
          },
          "metadata": {},
          "output_type": "display_data"
        }
      ],
      "source": [
        "dflt_norm.plot.bar(stacked=True, figsize=(6,6))"
      ]
    },
    {
      "cell_type": "markdown",
      "id": "gt_9ph9UCycr",
      "metadata": {
        "id": "gt_9ph9UCycr"
      },
      "source": [
        "We can infer that clients having no previous default have slightly higher chances of subscribing to a term loan as compared to the clients who have previous default history."
      ]
    },
    {
      "cell_type": "code",
      "execution_count": null,
      "id": "tG0XhoXgCzHE",
      "metadata": {
        "id": "tG0XhoXgCzHE"
      },
      "outputs": [],
      "source": [
        "# Converting the target variables into 0s and 1s\n",
        "bank_data['y'].replace('no', 0,inplace=True)\n",
        "bank_data['y'].replace('yes', 1,inplace=True)"
      ]
    },
    {
      "cell_type": "code",
      "execution_count": null,
      "id": "8p-Vyn11ISb8",
      "metadata": {
        "id": "8p-Vyn11ISb8"
      },
      "outputs": [],
      "source": [
        "def label_transform(x):\n",
        "    le = LabelEncoder()\n",
        "    Encoded_le = le.fit_transform(x)\n",
        "    return Encoded_le"
      ]
    },
    {
      "cell_type": "code",
      "execution_count": null,
      "id": "2xJOjkhNU-UM",
      "metadata": {
        "id": "2xJOjkhNU-UM"
      },
      "outputs": [],
      "source": [
        "catagoral_label=['job','marital','education','default','housing','loan','contact','month','day_of_week','poutcome','y']"
      ]
    },
    {
      "cell_type": "code",
      "execution_count": null,
      "id": "54672873",
      "metadata": {
        "id": "54672873"
      },
      "outputs": [],
      "source": [
        "from sklearn.preprocessing import LabelEncoder, OneHotEncoder"
      ]
    },
    {
      "cell_type": "code",
      "execution_count": null,
      "id": "pT2hIy4RGmQr",
      "metadata": {
        "id": "pT2hIy4RGmQr"
      },
      "outputs": [],
      "source": [
        "for x in catagoral_label:\n",
        "    bank_data[x] = label_transform(bank_data[x])"
      ]
    },
    {
      "cell_type": "code",
      "execution_count": null,
      "id": "vBcpRA7eFltL",
      "metadata": {
        "colab": {
          "base_uri": "https://localhost:8080/",
          "height": 270
        },
        "id": "vBcpRA7eFltL",
        "outputId": "8a6d1921-b125-4deb-bd91-feef5a5a68fd"
      },
      "outputs": [
        {
          "name": "stdout",
          "output_type": "stream",
          "text": [
            "y                 1.000000\n",
            "previous          0.230181\n",
            "poutcome          0.129789\n",
            "education         0.057799\n",
            "cons.conf.idx     0.054878\n",
            "marital           0.046203\n",
            "age               0.030399\n",
            "job               0.025122\n",
            "day_of_week       0.015967\n",
            "housing           0.011552\n",
            "loan             -0.004909\n",
            "month            -0.006065\n",
            "campaign         -0.066357\n",
            "default          -0.099352\n",
            "cons.price.idx   -0.136211\n",
            "contact          -0.144773\n",
            "emp.var.rate     -0.298334\n",
            "euribor3m        -0.307771\n",
            "pdays            -0.324914\n",
            "nr.employed      -0.354678\n",
            "dtype: float64\n"
          ]
        }
      ],
      "source": [
        "bank_data.head()# get correlation coefficients with y\n",
        "corr_with_y = bank_data.corrwith(bank_data['y']).sort_values(ascending=False)\n",
        "\n",
        "# print the results\n",
        "print(corr_with_y)\n"
      ]
    },
    {
      "cell_type": "code",
      "execution_count": null,
      "id": "SXHzK2v4C8xU",
      "metadata": {
        "colab": {
          "base_uri": "https://localhost:8080/",
          "height": 363
        },
        "id": "SXHzK2v4C8xU",
        "outputId": "e1904060-c742-4330-92fc-11b4803a6204"
      },
      "outputs": [
        {
          "data": {
            "text/html": [
              "<div>\n",
              "<style scoped>\n",
              "    .dataframe tbody tr th:only-of-type {\n",
              "        vertical-align: middle;\n",
              "    }\n",
              "\n",
              "    .dataframe tbody tr th {\n",
              "        vertical-align: top;\n",
              "    }\n",
              "\n",
              "    .dataframe thead th {\n",
              "        text-align: right;\n",
              "    }\n",
              "</style>\n",
              "<table border=\"1\" class=\"dataframe\">\n",
              "  <thead>\n",
              "    <tr style=\"text-align: right;\">\n",
              "      <th></th>\n",
              "      <th>age</th>\n",
              "      <th>job</th>\n",
              "      <th>marital</th>\n",
              "      <th>education</th>\n",
              "      <th>default</th>\n",
              "      <th>housing</th>\n",
              "      <th>loan</th>\n",
              "      <th>contact</th>\n",
              "      <th>month</th>\n",
              "      <th>day_of_week</th>\n",
              "      <th>campaign</th>\n",
              "      <th>pdays</th>\n",
              "      <th>previous</th>\n",
              "      <th>poutcome</th>\n",
              "      <th>emp.var.rate</th>\n",
              "      <th>cons.price.idx</th>\n",
              "      <th>cons.conf.idx</th>\n",
              "      <th>euribor3m</th>\n",
              "      <th>nr.employed</th>\n",
              "      <th>y</th>\n",
              "    </tr>\n",
              "  </thead>\n",
              "  <tbody>\n",
              "    <tr>\n",
              "      <th>age</th>\n",
              "      <td>1.000000</td>\n",
              "      <td>0.001250</td>\n",
              "      <td>-0.389753</td>\n",
              "      <td>-0.117892</td>\n",
              "      <td>0.164965</td>\n",
              "      <td>-0.001603</td>\n",
              "      <td>-0.007368</td>\n",
              "      <td>0.007021</td>\n",
              "      <td>-0.024877</td>\n",
              "      <td>-0.017572</td>\n",
              "      <td>0.004594</td>\n",
              "      <td>-0.034369</td>\n",
              "      <td>0.024365</td>\n",
              "      <td>0.019750</td>\n",
              "      <td>-0.000371</td>\n",
              "      <td>0.000857</td>\n",
              "      <td>0.129372</td>\n",
              "      <td>0.010767</td>\n",
              "      <td>-0.017725</td>\n",
              "      <td>0.030399</td>\n",
              "    </tr>\n",
              "    <tr>\n",
              "      <th>job</th>\n",
              "      <td>0.001250</td>\n",
              "      <td>1.000000</td>\n",
              "      <td>0.027897</td>\n",
              "      <td>0.134121</td>\n",
              "      <td>-0.028277</td>\n",
              "      <td>0.006962</td>\n",
              "      <td>-0.010209</td>\n",
              "      <td>-0.025132</td>\n",
              "      <td>-0.033213</td>\n",
              "      <td>-0.000844</td>\n",
              "      <td>-0.006923</td>\n",
              "      <td>-0.028468</td>\n",
              "      <td>0.020965</td>\n",
              "      <td>0.011504</td>\n",
              "      <td>-0.008271</td>\n",
              "      <td>-0.016017</td>\n",
              "      <td>0.052760</td>\n",
              "      <td>-0.007880</td>\n",
              "      <td>-0.019574</td>\n",
              "      <td>0.025122</td>\n",
              "    </tr>\n",
              "    <tr>\n",
              "      <th>marital</th>\n",
              "      <td>-0.389753</td>\n",
              "      <td>0.027897</td>\n",
              "      <td>1.000000</td>\n",
              "      <td>0.109220</td>\n",
              "      <td>-0.079450</td>\n",
              "      <td>0.010467</td>\n",
              "      <td>0.005788</td>\n",
              "      <td>-0.054501</td>\n",
              "      <td>-0.007629</td>\n",
              "      <td>0.002202</td>\n",
              "      <td>-0.007240</td>\n",
              "      <td>-0.037942</td>\n",
              "      <td>0.038689</td>\n",
              "      <td>0.001912</td>\n",
              "      <td>-0.084210</td>\n",
              "      <td>-0.057477</td>\n",
              "      <td>-0.033783</td>\n",
              "      <td>-0.091939</td>\n",
              "      <td>-0.086199</td>\n",
              "      <td>0.046203</td>\n",
              "    </tr>\n",
              "    <tr>\n",
              "      <th>education</th>\n",
              "      <td>-0.117892</td>\n",
              "      <td>0.134121</td>\n",
              "      <td>0.109220</td>\n",
              "      <td>1.000000</td>\n",
              "      <td>-0.186859</td>\n",
              "      <td>0.016825</td>\n",
              "      <td>0.006384</td>\n",
              "      <td>-0.105726</td>\n",
              "      <td>-0.082684</td>\n",
              "      <td>-0.017986</td>\n",
              "      <td>0.000371</td>\n",
              "      <td>-0.046626</td>\n",
              "      <td>0.038831</td>\n",
              "      <td>0.017009</td>\n",
              "      <td>-0.043778</td>\n",
              "      <td>-0.081607</td>\n",
              "      <td>0.078799</td>\n",
              "      <td>-0.036380</td>\n",
              "      <td>-0.041492</td>\n",
              "      <td>0.057799</td>\n",
              "    </tr>\n",
              "    <tr>\n",
              "      <th>default</th>\n",
              "      <td>0.164965</td>\n",
              "      <td>-0.028277</td>\n",
              "      <td>-0.079450</td>\n",
              "      <td>-0.186859</td>\n",
              "      <td>1.000000</td>\n",
              "      <td>-0.015815</td>\n",
              "      <td>-0.003782</td>\n",
              "      <td>0.135238</td>\n",
              "      <td>-0.015830</td>\n",
              "      <td>-0.008701</td>\n",
              "      <td>0.032825</td>\n",
              "      <td>0.080062</td>\n",
              "      <td>-0.102416</td>\n",
              "      <td>0.023417</td>\n",
              "      <td>0.203263</td>\n",
              "      <td>0.168073</td>\n",
              "      <td>0.026522</td>\n",
              "      <td>0.195336</td>\n",
              "      <td>0.189845</td>\n",
              "      <td>-0.099352</td>\n",
              "    </tr>\n",
              "    <tr>\n",
              "      <th>housing</th>\n",
              "      <td>-0.001603</td>\n",
              "      <td>0.006962</td>\n",
              "      <td>0.010467</td>\n",
              "      <td>0.016825</td>\n",
              "      <td>-0.015815</td>\n",
              "      <td>1.000000</td>\n",
              "      <td>0.044296</td>\n",
              "      <td>-0.082186</td>\n",
              "      <td>-0.018141</td>\n",
              "      <td>0.003339</td>\n",
              "      <td>-0.011010</td>\n",
              "      <td>-0.010551</td>\n",
              "      <td>0.021314</td>\n",
              "      <td>-0.011783</td>\n",
              "      <td>-0.060196</td>\n",
              "      <td>-0.080504</td>\n",
              "      <td>-0.033845</td>\n",
              "      <td>-0.059277</td>\n",
              "      <td>-0.045862</td>\n",
              "      <td>0.011552</td>\n",
              "    </tr>\n",
              "    <tr>\n",
              "      <th>loan</th>\n",
              "      <td>-0.007368</td>\n",
              "      <td>-0.010209</td>\n",
              "      <td>0.005788</td>\n",
              "      <td>0.006384</td>\n",
              "      <td>-0.003782</td>\n",
              "      <td>0.044296</td>\n",
              "      <td>1.000000</td>\n",
              "      <td>-0.008556</td>\n",
              "      <td>-0.005705</td>\n",
              "      <td>-0.009344</td>\n",
              "      <td>0.005166</td>\n",
              "      <td>0.000345</td>\n",
              "      <td>-0.001327</td>\n",
              "      <td>-0.001511</td>\n",
              "      <td>0.001849</td>\n",
              "      <td>-0.002430</td>\n",
              "      <td>-0.012025</td>\n",
              "      <td>0.000125</td>\n",
              "      <td>0.003903</td>\n",
              "      <td>-0.004909</td>\n",
              "    </tr>\n",
              "    <tr>\n",
              "      <th>contact</th>\n",
              "      <td>0.007021</td>\n",
              "      <td>-0.025132</td>\n",
              "      <td>-0.054501</td>\n",
              "      <td>-0.105726</td>\n",
              "      <td>0.135238</td>\n",
              "      <td>-0.082186</td>\n",
              "      <td>-0.008556</td>\n",
              "      <td>1.000000</td>\n",
              "      <td>0.276565</td>\n",
              "      <td>-0.009575</td>\n",
              "      <td>0.077368</td>\n",
              "      <td>0.117970</td>\n",
              "      <td>-0.212848</td>\n",
              "      <td>0.118744</td>\n",
              "      <td>0.393584</td>\n",
              "      <td>0.591474</td>\n",
              "      <td>0.251614</td>\n",
              "      <td>0.399773</td>\n",
              "      <td>0.269155</td>\n",
              "      <td>-0.144773</td>\n",
              "    </tr>\n",
              "    <tr>\n",
              "      <th>month</th>\n",
              "      <td>-0.024877</td>\n",
              "      <td>-0.033213</td>\n",
              "      <td>-0.007629</td>\n",
              "      <td>-0.082684</td>\n",
              "      <td>-0.015830</td>\n",
              "      <td>-0.018141</td>\n",
              "      <td>-0.005705</td>\n",
              "      <td>0.276565</td>\n",
              "      <td>1.000000</td>\n",
              "      <td>0.027677</td>\n",
              "      <td>-0.062059</td>\n",
              "      <td>-0.047891</td>\n",
              "      <td>0.103157</td>\n",
              "      <td>-0.065012</td>\n",
              "      <td>-0.178782</td>\n",
              "      <td>-0.004239</td>\n",
              "      <td>0.009652</td>\n",
              "      <td>-0.117264</td>\n",
              "      <td>-0.221425</td>\n",
              "      <td>-0.006065</td>\n",
              "    </tr>\n",
              "    <tr>\n",
              "      <th>day_of_week</th>\n",
              "      <td>-0.017572</td>\n",
              "      <td>-0.000844</td>\n",
              "      <td>0.002202</td>\n",
              "      <td>-0.017986</td>\n",
              "      <td>-0.008701</td>\n",
              "      <td>0.003339</td>\n",
              "      <td>-0.009344</td>\n",
              "      <td>-0.009575</td>\n",
              "      <td>0.027677</td>\n",
              "      <td>1.000000</td>\n",
              "      <td>-0.038288</td>\n",
              "      <td>-0.009531</td>\n",
              "      <td>-0.004102</td>\n",
              "      <td>0.018732</td>\n",
              "      <td>0.033245</td>\n",
              "      <td>0.005644</td>\n",
              "      <td>0.041465</td>\n",
              "      <td>0.039043</td>\n",
              "      <td>0.028380</td>\n",
              "      <td>0.015967</td>\n",
              "    </tr>\n",
              "    <tr>\n",
              "      <th>campaign</th>\n",
              "      <td>0.004594</td>\n",
              "      <td>-0.006923</td>\n",
              "      <td>-0.007240</td>\n",
              "      <td>0.000371</td>\n",
              "      <td>0.032825</td>\n",
              "      <td>-0.011010</td>\n",
              "      <td>0.005166</td>\n",
              "      <td>0.077368</td>\n",
              "      <td>-0.062059</td>\n",
              "      <td>-0.038288</td>\n",
              "      <td>1.000000</td>\n",
              "      <td>0.052584</td>\n",
              "      <td>-0.079141</td>\n",
              "      <td>0.032586</td>\n",
              "      <td>0.150754</td>\n",
              "      <td>0.127836</td>\n",
              "      <td>-0.013733</td>\n",
              "      <td>0.135133</td>\n",
              "      <td>0.144095</td>\n",
              "      <td>-0.066357</td>\n",
              "    </tr>\n",
              "    <tr>\n",
              "      <th>pdays</th>\n",
              "      <td>-0.034369</td>\n",
              "      <td>-0.028468</td>\n",
              "      <td>-0.037942</td>\n",
              "      <td>-0.046626</td>\n",
              "      <td>0.080062</td>\n",
              "      <td>-0.010551</td>\n",
              "      <td>0.000345</td>\n",
              "      <td>0.117970</td>\n",
              "      <td>-0.047891</td>\n",
              "      <td>-0.009531</td>\n",
              "      <td>0.052584</td>\n",
              "      <td>1.000000</td>\n",
              "      <td>-0.587514</td>\n",
              "      <td>-0.475619</td>\n",
              "      <td>0.271004</td>\n",
              "      <td>0.078889</td>\n",
              "      <td>-0.091342</td>\n",
              "      <td>0.296899</td>\n",
              "      <td>0.372605</td>\n",
              "      <td>-0.324914</td>\n",
              "    </tr>\n",
              "    <tr>\n",
              "      <th>previous</th>\n",
              "      <td>0.024365</td>\n",
              "      <td>0.020965</td>\n",
              "      <td>0.038689</td>\n",
              "      <td>0.038831</td>\n",
              "      <td>-0.102416</td>\n",
              "      <td>0.021314</td>\n",
              "      <td>-0.001327</td>\n",
              "      <td>-0.212848</td>\n",
              "      <td>0.103157</td>\n",
              "      <td>-0.004102</td>\n",
              "      <td>-0.079141</td>\n",
              "      <td>-0.587514</td>\n",
              "      <td>1.000000</td>\n",
              "      <td>-0.313110</td>\n",
              "      <td>-0.420489</td>\n",
              "      <td>-0.203130</td>\n",
              "      <td>-0.050936</td>\n",
              "      <td>-0.454494</td>\n",
              "      <td>-0.501333</td>\n",
              "      <td>0.230181</td>\n",
              "    </tr>\n",
              "    <tr>\n",
              "      <th>poutcome</th>\n",
              "      <td>0.019750</td>\n",
              "      <td>0.011504</td>\n",
              "      <td>0.001912</td>\n",
              "      <td>0.017009</td>\n",
              "      <td>0.023417</td>\n",
              "      <td>-0.011783</td>\n",
              "      <td>-0.001511</td>\n",
              "      <td>0.118744</td>\n",
              "      <td>-0.065012</td>\n",
              "      <td>0.018732</td>\n",
              "      <td>0.032586</td>\n",
              "      <td>-0.475619</td>\n",
              "      <td>-0.313110</td>\n",
              "      <td>1.000000</td>\n",
              "      <td>0.192972</td>\n",
              "      <td>0.211330</td>\n",
              "      <td>0.178289</td>\n",
              "      <td>0.184144</td>\n",
              "      <td>0.119689</td>\n",
              "      <td>0.129789</td>\n",
              "    </tr>\n",
              "    <tr>\n",
              "      <th>emp.var.rate</th>\n",
              "      <td>-0.000371</td>\n",
              "      <td>-0.008271</td>\n",
              "      <td>-0.084210</td>\n",
              "      <td>-0.043778</td>\n",
              "      <td>0.203263</td>\n",
              "      <td>-0.060196</td>\n",
              "      <td>0.001849</td>\n",
              "      <td>0.393584</td>\n",
              "      <td>-0.178782</td>\n",
              "      <td>0.033245</td>\n",
              "      <td>0.150754</td>\n",
              "      <td>0.271004</td>\n",
              "      <td>-0.420489</td>\n",
              "      <td>0.192972</td>\n",
              "      <td>1.000000</td>\n",
              "      <td>0.775334</td>\n",
              "      <td>0.196041</td>\n",
              "      <td>0.972245</td>\n",
              "      <td>0.906970</td>\n",
              "      <td>-0.298334</td>\n",
              "    </tr>\n",
              "    <tr>\n",
              "      <th>cons.price.idx</th>\n",
              "      <td>0.000857</td>\n",
              "      <td>-0.016017</td>\n",
              "      <td>-0.057477</td>\n",
              "      <td>-0.081607</td>\n",
              "      <td>0.168073</td>\n",
              "      <td>-0.080504</td>\n",
              "      <td>-0.002430</td>\n",
              "      <td>0.591474</td>\n",
              "      <td>-0.004239</td>\n",
              "      <td>0.005644</td>\n",
              "      <td>0.127836</td>\n",
              "      <td>0.078889</td>\n",
              "      <td>-0.203130</td>\n",
              "      <td>0.211330</td>\n",
              "      <td>0.775334</td>\n",
              "      <td>1.000000</td>\n",
              "      <td>0.058986</td>\n",
              "      <td>0.688230</td>\n",
              "      <td>0.522034</td>\n",
              "      <td>-0.136211</td>\n",
              "    </tr>\n",
              "    <tr>\n",
              "      <th>cons.conf.idx</th>\n",
              "      <td>0.129372</td>\n",
              "      <td>0.052760</td>\n",
              "      <td>-0.033783</td>\n",
              "      <td>0.078799</td>\n",
              "      <td>0.026522</td>\n",
              "      <td>-0.033845</td>\n",
              "      <td>-0.012025</td>\n",
              "      <td>0.251614</td>\n",
              "      <td>0.009652</td>\n",
              "      <td>0.041465</td>\n",
              "      <td>-0.013733</td>\n",
              "      <td>-0.091342</td>\n",
              "      <td>-0.050936</td>\n",
              "      <td>0.178289</td>\n",
              "      <td>0.196041</td>\n",
              "      <td>0.058986</td>\n",
              "      <td>1.000000</td>\n",
              "      <td>0.277686</td>\n",
              "      <td>0.100513</td>\n",
              "      <td>0.054878</td>\n",
              "    </tr>\n",
              "    <tr>\n",
              "      <th>euribor3m</th>\n",
              "      <td>0.010767</td>\n",
              "      <td>-0.007880</td>\n",
              "      <td>-0.091939</td>\n",
              "      <td>-0.036380</td>\n",
              "      <td>0.195336</td>\n",
              "      <td>-0.059277</td>\n",
              "      <td>0.000125</td>\n",
              "      <td>0.399773</td>\n",
              "      <td>-0.117264</td>\n",
              "      <td>0.039043</td>\n",
              "      <td>0.135133</td>\n",
              "      <td>0.296899</td>\n",
              "      <td>-0.454494</td>\n",
              "      <td>0.184144</td>\n",
              "      <td>0.972245</td>\n",
              "      <td>0.688230</td>\n",
              "      <td>0.277686</td>\n",
              "      <td>1.000000</td>\n",
              "      <td>0.945154</td>\n",
              "      <td>-0.307771</td>\n",
              "    </tr>\n",
              "    <tr>\n",
              "      <th>nr.employed</th>\n",
              "      <td>-0.017725</td>\n",
              "      <td>-0.019574</td>\n",
              "      <td>-0.086199</td>\n",
              "      <td>-0.041492</td>\n",
              "      <td>0.189845</td>\n",
              "      <td>-0.045862</td>\n",
              "      <td>0.003903</td>\n",
              "      <td>0.269155</td>\n",
              "      <td>-0.221425</td>\n",
              "      <td>0.028380</td>\n",
              "      <td>0.144095</td>\n",
              "      <td>0.372605</td>\n",
              "      <td>-0.501333</td>\n",
              "      <td>0.119689</td>\n",
              "      <td>0.906970</td>\n",
              "      <td>0.522034</td>\n",
              "      <td>0.100513</td>\n",
              "      <td>0.945154</td>\n",
              "      <td>1.000000</td>\n",
              "      <td>-0.354678</td>\n",
              "    </tr>\n",
              "    <tr>\n",
              "      <th>y</th>\n",
              "      <td>0.030399</td>\n",
              "      <td>0.025122</td>\n",
              "      <td>0.046203</td>\n",
              "      <td>0.057799</td>\n",
              "      <td>-0.099352</td>\n",
              "      <td>0.011552</td>\n",
              "      <td>-0.004909</td>\n",
              "      <td>-0.144773</td>\n",
              "      <td>-0.006065</td>\n",
              "      <td>0.015967</td>\n",
              "      <td>-0.066357</td>\n",
              "      <td>-0.324914</td>\n",
              "      <td>0.230181</td>\n",
              "      <td>0.129789</td>\n",
              "      <td>-0.298334</td>\n",
              "      <td>-0.136211</td>\n",
              "      <td>0.054878</td>\n",
              "      <td>-0.307771</td>\n",
              "      <td>-0.354678</td>\n",
              "      <td>1.000000</td>\n",
              "    </tr>\n",
              "  </tbody>\n",
              "</table>\n",
              "</div>"
            ],
            "text/plain": [
              "                     age       job   marital  education   default   housing  \\\n",
              "age             1.000000  0.001250 -0.389753  -0.117892  0.164965 -0.001603   \n",
              "job             0.001250  1.000000  0.027897   0.134121 -0.028277  0.006962   \n",
              "marital        -0.389753  0.027897  1.000000   0.109220 -0.079450  0.010467   \n",
              "education      -0.117892  0.134121  0.109220   1.000000 -0.186859  0.016825   \n",
              "default         0.164965 -0.028277 -0.079450  -0.186859  1.000000 -0.015815   \n",
              "housing        -0.001603  0.006962  0.010467   0.016825 -0.015815  1.000000   \n",
              "loan           -0.007368 -0.010209  0.005788   0.006384 -0.003782  0.044296   \n",
              "contact         0.007021 -0.025132 -0.054501  -0.105726  0.135238 -0.082186   \n",
              "month          -0.024877 -0.033213 -0.007629  -0.082684 -0.015830 -0.018141   \n",
              "day_of_week    -0.017572 -0.000844  0.002202  -0.017986 -0.008701  0.003339   \n",
              "campaign        0.004594 -0.006923 -0.007240   0.000371  0.032825 -0.011010   \n",
              "pdays          -0.034369 -0.028468 -0.037942  -0.046626  0.080062 -0.010551   \n",
              "previous        0.024365  0.020965  0.038689   0.038831 -0.102416  0.021314   \n",
              "poutcome        0.019750  0.011504  0.001912   0.017009  0.023417 -0.011783   \n",
              "emp.var.rate   -0.000371 -0.008271 -0.084210  -0.043778  0.203263 -0.060196   \n",
              "cons.price.idx  0.000857 -0.016017 -0.057477  -0.081607  0.168073 -0.080504   \n",
              "cons.conf.idx   0.129372  0.052760 -0.033783   0.078799  0.026522 -0.033845   \n",
              "euribor3m       0.010767 -0.007880 -0.091939  -0.036380  0.195336 -0.059277   \n",
              "nr.employed    -0.017725 -0.019574 -0.086199  -0.041492  0.189845 -0.045862   \n",
              "y               0.030399  0.025122  0.046203   0.057799 -0.099352  0.011552   \n",
              "\n",
              "                    loan   contact     month  day_of_week  campaign     pdays  \\\n",
              "age            -0.007368  0.007021 -0.024877    -0.017572  0.004594 -0.034369   \n",
              "job            -0.010209 -0.025132 -0.033213    -0.000844 -0.006923 -0.028468   \n",
              "marital         0.005788 -0.054501 -0.007629     0.002202 -0.007240 -0.037942   \n",
              "education       0.006384 -0.105726 -0.082684    -0.017986  0.000371 -0.046626   \n",
              "default        -0.003782  0.135238 -0.015830    -0.008701  0.032825  0.080062   \n",
              "housing         0.044296 -0.082186 -0.018141     0.003339 -0.011010 -0.010551   \n",
              "loan            1.000000 -0.008556 -0.005705    -0.009344  0.005166  0.000345   \n",
              "contact        -0.008556  1.000000  0.276565    -0.009575  0.077368  0.117970   \n",
              "month          -0.005705  0.276565  1.000000     0.027677 -0.062059 -0.047891   \n",
              "day_of_week    -0.009344 -0.009575  0.027677     1.000000 -0.038288 -0.009531   \n",
              "campaign        0.005166  0.077368 -0.062059    -0.038288  1.000000  0.052584   \n",
              "pdays           0.000345  0.117970 -0.047891    -0.009531  0.052584  1.000000   \n",
              "previous       -0.001327 -0.212848  0.103157    -0.004102 -0.079141 -0.587514   \n",
              "poutcome       -0.001511  0.118744 -0.065012     0.018732  0.032586 -0.475619   \n",
              "emp.var.rate    0.001849  0.393584 -0.178782     0.033245  0.150754  0.271004   \n",
              "cons.price.idx -0.002430  0.591474 -0.004239     0.005644  0.127836  0.078889   \n",
              "cons.conf.idx  -0.012025  0.251614  0.009652     0.041465 -0.013733 -0.091342   \n",
              "euribor3m       0.000125  0.399773 -0.117264     0.039043  0.135133  0.296899   \n",
              "nr.employed     0.003903  0.269155 -0.221425     0.028380  0.144095  0.372605   \n",
              "y              -0.004909 -0.144773 -0.006065     0.015967 -0.066357 -0.324914   \n",
              "\n",
              "                previous  poutcome  emp.var.rate  cons.price.idx  \\\n",
              "age             0.024365  0.019750     -0.000371        0.000857   \n",
              "job             0.020965  0.011504     -0.008271       -0.016017   \n",
              "marital         0.038689  0.001912     -0.084210       -0.057477   \n",
              "education       0.038831  0.017009     -0.043778       -0.081607   \n",
              "default        -0.102416  0.023417      0.203263        0.168073   \n",
              "housing         0.021314 -0.011783     -0.060196       -0.080504   \n",
              "loan           -0.001327 -0.001511      0.001849       -0.002430   \n",
              "contact        -0.212848  0.118744      0.393584        0.591474   \n",
              "month           0.103157 -0.065012     -0.178782       -0.004239   \n",
              "day_of_week    -0.004102  0.018732      0.033245        0.005644   \n",
              "campaign       -0.079141  0.032586      0.150754        0.127836   \n",
              "pdays          -0.587514 -0.475619      0.271004        0.078889   \n",
              "previous        1.000000 -0.313110     -0.420489       -0.203130   \n",
              "poutcome       -0.313110  1.000000      0.192972        0.211330   \n",
              "emp.var.rate   -0.420489  0.192972      1.000000        0.775334   \n",
              "cons.price.idx -0.203130  0.211330      0.775334        1.000000   \n",
              "cons.conf.idx  -0.050936  0.178289      0.196041        0.058986   \n",
              "euribor3m      -0.454494  0.184144      0.972245        0.688230   \n",
              "nr.employed    -0.501333  0.119689      0.906970        0.522034   \n",
              "y               0.230181  0.129789     -0.298334       -0.136211   \n",
              "\n",
              "                cons.conf.idx  euribor3m  nr.employed         y  \n",
              "age                  0.129372   0.010767    -0.017725  0.030399  \n",
              "job                  0.052760  -0.007880    -0.019574  0.025122  \n",
              "marital             -0.033783  -0.091939    -0.086199  0.046203  \n",
              "education            0.078799  -0.036380    -0.041492  0.057799  \n",
              "default              0.026522   0.195336     0.189845 -0.099352  \n",
              "housing             -0.033845  -0.059277    -0.045862  0.011552  \n",
              "loan                -0.012025   0.000125     0.003903 -0.004909  \n",
              "contact              0.251614   0.399773     0.269155 -0.144773  \n",
              "month                0.009652  -0.117264    -0.221425 -0.006065  \n",
              "day_of_week          0.041465   0.039043     0.028380  0.015967  \n",
              "campaign            -0.013733   0.135133     0.144095 -0.066357  \n",
              "pdays               -0.091342   0.296899     0.372605 -0.324914  \n",
              "previous            -0.050936  -0.454494    -0.501333  0.230181  \n",
              "poutcome             0.178289   0.184144     0.119689  0.129789  \n",
              "emp.var.rate         0.196041   0.972245     0.906970 -0.298334  \n",
              "cons.price.idx       0.058986   0.688230     0.522034 -0.136211  \n",
              "cons.conf.idx        1.000000   0.277686     0.100513  0.054878  \n",
              "euribor3m            0.277686   1.000000     0.945154 -0.307771  \n",
              "nr.employed          0.100513   0.945154     1.000000 -0.354678  \n",
              "y                    0.054878  -0.307771    -0.354678  1.000000  "
            ]
          },
          "execution_count": 35,
          "metadata": {},
          "output_type": "execute_result"
        }
      ],
      "source": [
        "#Correlation matrix\n",
        "tc = bank_data.corr()\n",
        "tc"
      ]
    },
    {
      "cell_type": "code",
      "execution_count": null,
      "id": "32c4afe0",
      "metadata": {
        "id": "32c4afe0",
        "outputId": "dd3618cf-5668-4a47-ceeb-705501ab005f"
      },
      "outputs": [
        {
          "name": "stdout",
          "output_type": "stream",
          "text": [
            "y                 1.000000\n",
            "nr.employed       0.725516\n",
            "euribor3m         0.697444\n",
            "emp.var.rate      0.685384\n",
            "pdays             0.679458\n",
            "previous          0.614101\n",
            "cons.price.idx    0.560374\n",
            "contact           0.496236\n",
            "default           0.360745\n",
            "campaign          0.261194\n",
            "education         0.184295\n",
            "marital           0.159575\n",
            "month             0.111109\n",
            "poutcome          0.105647\n",
            "housing           0.089866\n",
            "job               0.087269\n",
            "cons.conf.idx     0.040299\n",
            "age               0.039238\n",
            "day_of_week       0.014044\n",
            "loan              0.003155\n",
            "dtype: float64\n"
          ]
        }
      ],
      "source": [
        "# get correlation coefficients with y\n",
        "corr_with_y = abs(tc.corrwith(tc['y'])).sort_values(ascending=False)\n",
        "\n",
        "# print the results\n",
        "print(corr_with_y)"
      ]
    },
    {
      "cell_type": "code",
      "execution_count": null,
      "id": "xV49aesWDAZE",
      "metadata": {
        "colab": {
          "base_uri": "https://localhost:8080/",
          "height": 618
        },
        "id": "xV49aesWDAZE",
        "outputId": "087dfff8-c75e-4f69-c267-bc6e1d4e8e5c"
      },
      "outputs": [
        {
          "data": {
            "image/png": "[encoded data removed]",
            "text/plain": [
              "<Figure size 1000x800 with 2 Axes>"
            ]
          },
          "metadata": {},
          "output_type": "display_data"
        }
      ],
      "source": [
        "fig, ax = plt.subplots()\n",
        "fig.set_size_inches(10, 8)\n",
        "corr_threshold = 0.5\n",
        "sns.heatmap(tc[(tc > corr_threshold) | (tc < -corr_threshold)],\n",
        "            cmap='coolwarm', annot=True, fmt='.2f', ax=ax)\n",
        "plt.show()"
      ]
    },
    {
      "cell_type": "markdown",
      "id": "5feea37f",
      "metadata": {
        "id": "5feea37f"
      },
      "source": [
        "## Train and test Data"
      ]
    },
    {
      "cell_type": "code",
      "execution_count": null,
      "id": "mitV2YUzH7ej",
      "metadata": {
        "colab": {
          "base_uri": "https://localhost:8080/"
        },
        "id": "mitV2YUzH7ej",
        "outputId": "a99f845d-039f-4917-b46e-2bbf581ea21d"
      },
      "outputs": [
        {
          "data": {
            "text/plain": [
              "0        0\n",
              "1        0\n",
              "2        0\n",
              "3        0\n",
              "4        0\n",
              "        ..\n",
              "41183    1\n",
              "41184    0\n",
              "41185    0\n",
              "41186    1\n",
              "41187    0\n",
              "Name: y, Length: 41188, dtype: int64"
            ]
          },
          "execution_count": 38,
          "metadata": {},
          "output_type": "execute_result"
        }
      ],
      "source": [
        "y = bank_data['y']\n",
        "y"
      ]
    },
    {
      "cell_type": "code",
      "execution_count": null,
      "id": "Y2MtzUH-I-BT",
      "metadata": {
        "colab": {
          "base_uri": "https://localhost:8080/",
          "height": 488
        },
        "id": "Y2MtzUH-I-BT",
        "outputId": "64831c21-69f8-40f2-d97d-e53be9b15cf7"
      },
      "outputs": [
        {
          "data": {
            "text/html": [
              "<div>\n",
              "<style scoped>\n",
              "    .dataframe tbody tr th:only-of-type {\n",
              "        vertical-align: middle;\n",
              "    }\n",
              "\n",
              "    .dataframe tbody tr th {\n",
              "        vertical-align: top;\n",
              "    }\n",
              "\n",
              "    .dataframe thead th {\n",
              "        text-align: right;\n",
              "    }\n",
              "</style>\n",
              "<table border=\"1\" class=\"dataframe\">\n",
              "  <thead>\n",
              "    <tr style=\"text-align: right;\">\n",
              "      <th></th>\n",
              "      <th>age</th>\n",
              "      <th>job</th>\n",
              "      <th>marital</th>\n",
              "      <th>education</th>\n",
              "      <th>default</th>\n",
              "      <th>housing</th>\n",
              "      <th>loan</th>\n",
              "      <th>contact</th>\n",
              "      <th>month</th>\n",
              "      <th>day_of_week</th>\n",
              "      <th>campaign</th>\n",
              "      <th>pdays</th>\n",
              "      <th>previous</th>\n",
              "      <th>poutcome</th>\n",
              "      <th>emp.var.rate</th>\n",
              "      <th>cons.price.idx</th>\n",
              "      <th>cons.conf.idx</th>\n",
              "      <th>euribor3m</th>\n",
              "      <th>nr.employed</th>\n",
              "    </tr>\n",
              "  </thead>\n",
              "  <tbody>\n",
              "    <tr>\n",
              "      <th>0</th>\n",
              "      <td>56</td>\n",
              "      <td>3</td>\n",
              "      <td>1</td>\n",
              "      <td>0</td>\n",
              "      <td>0</td>\n",
              "      <td>0</td>\n",
              "      <td>0</td>\n",
              "      <td>1</td>\n",
              "      <td>6</td>\n",
              "      <td>1</td>\n",
              "      <td>1</td>\n",
              "      <td>999</td>\n",
              "      <td>0</td>\n",
              "      <td>1</td>\n",
              "      <td>1.1</td>\n",
              "      <td>93.994</td>\n",
              "      <td>-36.4</td>\n",
              "      <td>4.857</td>\n",
              "      <td>5191.0</td>\n",
              "    </tr>\n",
              "    <tr>\n",
              "      <th>1</th>\n",
              "      <td>57</td>\n",
              "      <td>7</td>\n",
              "      <td>1</td>\n",
              "      <td>3</td>\n",
              "      <td>1</td>\n",
              "      <td>0</td>\n",
              "      <td>0</td>\n",
              "      <td>1</td>\n",
              "      <td>6</td>\n",
              "      <td>1</td>\n",
              "      <td>1</td>\n",
              "      <td>999</td>\n",
              "      <td>0</td>\n",
              "      <td>1</td>\n",
              "      <td>1.1</td>\n",
              "      <td>93.994</td>\n",
              "      <td>-36.4</td>\n",
              "      <td>4.857</td>\n",
              "      <td>5191.0</td>\n",
              "    </tr>\n",
              "    <tr>\n",
              "      <th>2</th>\n",
              "      <td>37</td>\n",
              "      <td>7</td>\n",
              "      <td>1</td>\n",
              "      <td>3</td>\n",
              "      <td>0</td>\n",
              "      <td>2</td>\n",
              "      <td>0</td>\n",
              "      <td>1</td>\n",
              "      <td>6</td>\n",
              "      <td>1</td>\n",
              "      <td>1</td>\n",
              "      <td>999</td>\n",
              "      <td>0</td>\n",
              "      <td>1</td>\n",
              "      <td>1.1</td>\n",
              "      <td>93.994</td>\n",
              "      <td>-36.4</td>\n",
              "      <td>4.857</td>\n",
              "      <td>5191.0</td>\n",
              "    </tr>\n",
              "    <tr>\n",
              "      <th>3</th>\n",
              "      <td>40</td>\n",
              "      <td>0</td>\n",
              "      <td>1</td>\n",
              "      <td>1</td>\n",
              "      <td>0</td>\n",
              "      <td>0</td>\n",
              "      <td>0</td>\n",
              "      <td>1</td>\n",
              "      <td>6</td>\n",
              "      <td>1</td>\n",
              "      <td>1</td>\n",
              "      <td>999</td>\n",
              "      <td>0</td>\n",
              "      <td>1</td>\n",
              "      <td>1.1</td>\n",
              "      <td>93.994</td>\n",
              "      <td>-36.4</td>\n",
              "      <td>4.857</td>\n",
              "      <td>5191.0</td>\n",
              "    </tr>\n",
              "    <tr>\n",
              "      <th>4</th>\n",
              "      <td>56</td>\n",
              "      <td>7</td>\n",
              "      <td>1</td>\n",
              "      <td>3</td>\n",
              "      <td>0</td>\n",
              "      <td>0</td>\n",
              "      <td>2</td>\n",
              "      <td>1</td>\n",
              "      <td>6</td>\n",
              "      <td>1</td>\n",
              "      <td>1</td>\n",
              "      <td>999</td>\n",
              "      <td>0</td>\n",
              "      <td>1</td>\n",
              "      <td>1.1</td>\n",
              "      <td>93.994</td>\n",
              "      <td>-36.4</td>\n",
              "      <td>4.857</td>\n",
              "      <td>5191.0</td>\n",
              "    </tr>\n",
              "    <tr>\n",
              "      <th>...</th>\n",
              "      <td>...</td>\n",
              "      <td>...</td>\n",
              "      <td>...</td>\n",
              "      <td>...</td>\n",
              "      <td>...</td>\n",
              "      <td>...</td>\n",
              "      <td>...</td>\n",
              "      <td>...</td>\n",
              "      <td>...</td>\n",
              "      <td>...</td>\n",
              "      <td>...</td>\n",
              "      <td>...</td>\n",
              "      <td>...</td>\n",
              "      <td>...</td>\n",
              "      <td>...</td>\n",
              "      <td>...</td>\n",
              "      <td>...</td>\n",
              "      <td>...</td>\n",
              "      <td>...</td>\n",
              "    </tr>\n",
              "    <tr>\n",
              "      <th>41183</th>\n",
              "      <td>73</td>\n",
              "      <td>5</td>\n",
              "      <td>1</td>\n",
              "      <td>5</td>\n",
              "      <td>0</td>\n",
              "      <td>2</td>\n",
              "      <td>0</td>\n",
              "      <td>0</td>\n",
              "      <td>7</td>\n",
              "      <td>0</td>\n",
              "      <td>1</td>\n",
              "      <td>999</td>\n",
              "      <td>0</td>\n",
              "      <td>1</td>\n",
              "      <td>-1.1</td>\n",
              "      <td>94.767</td>\n",
              "      <td>-50.8</td>\n",
              "      <td>1.028</td>\n",
              "      <td>4963.6</td>\n",
              "    </tr>\n",
              "    <tr>\n",
              "      <th>41184</th>\n",
              "      <td>46</td>\n",
              "      <td>1</td>\n",
              "      <td>1</td>\n",
              "      <td>5</td>\n",
              "      <td>0</td>\n",
              "      <td>0</td>\n",
              "      <td>0</td>\n",
              "      <td>0</td>\n",
              "      <td>7</td>\n",
              "      <td>0</td>\n",
              "      <td>1</td>\n",
              "      <td>999</td>\n",
              "      <td>0</td>\n",
              "      <td>1</td>\n",
              "      <td>-1.1</td>\n",
              "      <td>94.767</td>\n",
              "      <td>-50.8</td>\n",
              "      <td>1.028</td>\n",
              "      <td>4963.6</td>\n",
              "    </tr>\n",
              "    <tr>\n",
              "      <th>41185</th>\n",
              "      <td>56</td>\n",
              "      <td>5</td>\n",
              "      <td>1</td>\n",
              "      <td>6</td>\n",
              "      <td>0</td>\n",
              "      <td>2</td>\n",
              "      <td>0</td>\n",
              "      <td>0</td>\n",
              "      <td>7</td>\n",
              "      <td>0</td>\n",
              "      <td>2</td>\n",
              "      <td>999</td>\n",
              "      <td>0</td>\n",
              "      <td>1</td>\n",
              "      <td>-1.1</td>\n",
              "      <td>94.767</td>\n",
              "      <td>-50.8</td>\n",
              "      <td>1.028</td>\n",
              "      <td>4963.6</td>\n",
              "    </tr>\n",
              "    <tr>\n",
              "      <th>41186</th>\n",
              "      <td>44</td>\n",
              "      <td>9</td>\n",
              "      <td>1</td>\n",
              "      <td>5</td>\n",
              "      <td>0</td>\n",
              "      <td>0</td>\n",
              "      <td>0</td>\n",
              "      <td>0</td>\n",
              "      <td>7</td>\n",
              "      <td>0</td>\n",
              "      <td>1</td>\n",
              "      <td>999</td>\n",
              "      <td>0</td>\n",
              "      <td>1</td>\n",
              "      <td>-1.1</td>\n",
              "      <td>94.767</td>\n",
              "      <td>-50.8</td>\n",
              "      <td>1.028</td>\n",
              "      <td>4963.6</td>\n",
              "    </tr>\n",
              "    <tr>\n",
              "      <th>41187</th>\n",
              "      <td>74</td>\n",
              "      <td>5</td>\n",
              "      <td>1</td>\n",
              "      <td>5</td>\n",
              "      <td>0</td>\n",
              "      <td>2</td>\n",
              "      <td>0</td>\n",
              "      <td>0</td>\n",
              "      <td>7</td>\n",
              "      <td>0</td>\n",
              "      <td>3</td>\n",
              "      <td>999</td>\n",
              "      <td>1</td>\n",
              "      <td>0</td>\n",
              "      <td>-1.1</td>\n",
              "      <td>94.767</td>\n",
              "      <td>-50.8</td>\n",
              "      <td>1.028</td>\n",
              "      <td>4963.6</td>\n",
              "    </tr>\n",
              "  </tbody>\n",
              "</table>\n",
              "<p>41188 rows × 19 columns</p>\n",
              "</div>"
            ],
            "text/plain": [
              "       age  job  marital  education  default  housing  loan  contact  month  \\\n",
              "0       56    3        1          0        0        0     0        1      6   \n",
              "1       57    7        1          3        1        0     0        1      6   \n",
              "2       37    7        1          3        0        2     0        1      6   \n",
              "3       40    0        1          1        0        0     0        1      6   \n",
              "4       56    7        1          3        0        0     2        1      6   \n",
              "...    ...  ...      ...        ...      ...      ...   ...      ...    ...   \n",
              "41183   73    5        1          5        0        2     0        0      7   \n",
              "41184   46    1        1          5        0        0     0        0      7   \n",
              "41185   56    5        1          6        0        2     0        0      7   \n",
              "41186   44    9        1          5        0        0     0        0      7   \n",
              "41187   74    5        1          5        0        2     0        0      7   \n",
              "\n",
              "       day_of_week  campaign  pdays  previous  poutcome  emp.var.rate  \\\n",
              "0                1         1    999         0         1           1.1   \n",
              "1                1         1    999         0         1           1.1   \n",
              "2                1         1    999         0         1           1.1   \n",
              "3                1         1    999         0         1           1.1   \n",
              "4                1         1    999         0         1           1.1   \n",
              "...            ...       ...    ...       ...       ...           ...   \n",
              "41183            0         1    999         0         1          -1.1   \n",
              "41184            0         1    999         0         1          -1.1   \n",
              "41185            0         2    999         0         1          -1.1   \n",
              "41186            0         1    999         0         1          -1.1   \n",
              "41187            0         3    999         1         0          -1.1   \n",
              "\n",
              "       cons.price.idx  cons.conf.idx  euribor3m  nr.employed  \n",
              "0              93.994          -36.4      4.857       5191.0  \n",
              "1              93.994          -36.4      4.857       5191.0  \n",
              "2              93.994          -36.4      4.857       5191.0  \n",
              "3              93.994          -36.4      4.857       5191.0  \n",
              "4              93.994          -36.4      4.857       5191.0  \n",
              "...               ...            ...        ...          ...  \n",
              "41183          94.767          -50.8      1.028       4963.6  \n",
              "41184          94.767          -50.8      1.028       4963.6  \n",
              "41185          94.767          -50.8      1.028       4963.6  \n",
              "41186          94.767          -50.8      1.028       4963.6  \n",
              "41187          94.767          -50.8      1.028       4963.6  \n",
              "\n",
              "[41188 rows x 19 columns]"
            ]
          },
          "execution_count": 39,
          "metadata": {},
          "output_type": "execute_result"
        }
      ],
      "source": [
        "#drop the groud truth column\n",
        "X = bank_data.drop('y',axis=1)\n",
        "X"
      ]
    },
    {
      "cell_type": "code",
      "execution_count": null,
      "id": "qFKMpO9hJLAh",
      "metadata": {
        "id": "qFKMpO9hJLAh"
      },
      "outputs": [],
      "source": [
        "from sklearn.model_selection import train_test_split\n",
        "#split the dataset into 70% training and 30% testing\n",
        "X_train,X_test, y_train,y_test = train_test_split(X,y, test_size=0.3, random_state = 200)"
      ]
    },
    {
      "cell_type": "markdown",
      "id": "4451e5f4",
      "metadata": {
        "id": "4451e5f4"
      },
      "source": [
        "## Decision Tress"
      ]
    },
    {
      "cell_type": "code",
      "execution_count": null,
      "id": "f78051cf",
      "metadata": {
        "id": "f78051cf"
      },
      "outputs": [],
      "source": [
        "from sklearn.model_selection import cross_val_score\n",
        "from sklearn.tree import DecisionTreeClassifier\n",
        "from sklearn.metrics import accuracy_score\n",
        "\n",
        "dtc = DecisionTreeClassifier(criterion='entropy',random_state=0)\n",
        "dtc_model=dtc.fit(X_train,y_train)"
      ]
    },
    {
      "cell_type": "code",
      "execution_count": null,
      "id": "aae65ad9",
      "metadata": {
        "id": "aae65ad9",
        "outputId": "7e54114b-cc64-4b12-dad9-5a27d324871c"
      },
      "outputs": [
        {
          "name": "stdout",
          "output_type": "stream",
          "text": [
            "['age', 'job', 'marital', 'education', 'default', 'housing', 'loan', 'contact', 'month', 'day_of_week', 'campaign', 'pdays', 'previous', 'poutcome', 'emp.var.rate', 'cons.price.idx', 'cons.conf.idx', 'euribor3m', 'nr.employed']\n",
            "[0 1]\n"
          ]
        }
      ],
      "source": [
        "# Visualize classification tree\n",
        "import matplotlib.pyplot as plt\n",
        "from sklearn.tree import plot_tree\n",
        "fn = list(X_train.columns) # specify feature names\n",
        "cn = dtc_model.classes_ # specify class names\n",
        "print(fn)\n",
        "print(cn)"
      ]
    },
    {
      "cell_type": "code",
      "execution_count": null,
      "id": "30539577",
      "metadata": {
        "id": "30539577",
        "outputId": "393bc503-f3da-4b5f-96ef-ce09c47a1f56"
      },
      "outputs": [
        {
          "name": "stdout",
          "output_type": "stream",
          "text": [
            "Plain accuracy of Classification Tree:  0.8460791454236465\n"
          ]
        }
      ],
      "source": [
        "### Report the classification tree model's plain accuracy in the test data.\n",
        "# evaluate in the test data\n",
        "y_pred=dtc_model.predict(X_test)\n",
        "print(\"Plain accuracy of Classification Tree: \",accuracy_score(y_test, y_pred))"
      ]
    },
    {
      "cell_type": "code",
      "execution_count": null,
      "id": "35f0645d",
      "metadata": {
        "id": "35f0645d",
        "outputId": "09b26184-1bf0-4509-bc4d-cfca325a0e50"
      },
      "outputs": [
        {
          "data": {
            "text/plain": [
              "age                 46.000\n",
              "job                  9.000\n",
              "marital              1.000\n",
              "education            3.000\n",
              "default              0.000\n",
              "housing              2.000\n",
              "loan                 0.000\n",
              "contact              0.000\n",
              "month                7.000\n",
              "day_of_week          1.000\n",
              "campaign             1.000\n",
              "pdays              999.000\n",
              "previous             0.000\n",
              "poutcome             1.000\n",
              "emp.var.rate        -0.100\n",
              "cons.price.idx      93.200\n",
              "cons.conf.idx      -42.000\n",
              "euribor3m            4.191\n",
              "nr.employed       5195.800\n",
              "Name: 24584, dtype: float64"
            ]
          },
          "execution_count": 44,
          "metadata": {},
          "output_type": "execute_result"
        }
      ],
      "source": [
        "# check the test instance\n",
        "X_test.iloc[0]"
      ]
    },
    {
      "cell_type": "code",
      "execution_count": null,
      "id": "03d4c148",
      "metadata": {
        "id": "03d4c148",
        "outputId": "e111a087-c63f-4236-b916-992c12d27386"
      },
      "outputs": [
        {
          "name": "stdout",
          "output_type": "stream",
          "text": [
            "[0]\n"
          ]
        }
      ],
      "source": [
        "# the class probabilies for the first instance in the test data\n",
        "y_pred1=dtc_model.predict(X_test.iloc[[0]])\n",
        "print(y_pred1)\n",
        "# 0 = no"
      ]
    },
    {
      "cell_type": "code",
      "execution_count": null,
      "id": "170fa47e",
      "metadata": {
        "id": "170fa47e",
        "outputId": "34f96edc-c85b-4a23-f143-9beb9a61ba21"
      },
      "outputs": [
        {
          "data": {
            "image/png": "[encoded data removed]",
            "text/plain": [
              "<Figure size 640x480 with 1 Axes>"
            ]
          },
          "metadata": {},
          "output_type": "display_data"
        },
        {
          "name": "stdout",
          "output_type": "stream",
          "text": [
            "The best max_depth by cross-validation is  6\n"
          ]
        }
      ],
      "source": [
        "# Report the classification tree model's plain accuracy in the test data.\n",
        "# tune max_depth\n",
        "scores_list = []\n",
        "depth_list = np.arange(1,11,1)\n",
        "for depth in depth_list:\n",
        "    dtc = DecisionTreeClassifier(max_depth=depth, criterion='entropy',random_state=0)\n",
        "    model=dtc.fit(X_train,y_train)\n",
        "    scores = cross_val_score(model,X_train,y_train,cv=10,scoring='accuracy')\n",
        "    scores_list.append(scores.mean())\n",
        "\n",
        "plt.plot(depth_list, scores_list,  color = 'blue', markerfacecolor = 'black',label = 'Score')\n",
        "plt.title('Accuracy Score vs max_depth')\n",
        "plt.xticks(depth_list)\n",
        "plt.show()\n",
        "\n",
        "index = np.argmax(np.array(scores_list))\n",
        "depth_best = depth_list[index]\n",
        "print('The best max_depth by cross-validation is ', depth_best)"
      ]
    },
    {
      "cell_type": "code",
      "execution_count": null,
      "id": "57922dc2",
      "metadata": {
        "id": "57922dc2",
        "outputId": "beb90d7c-67d0-443f-fc4e-0518d89fe3a2"
      },
      "outputs": [
        {
          "data": {
            "image/png": "[encoded data removed]",
            "text/plain": [
              "<Figure size 1000x800 with 1 Axes>"
            ]
          },
          "metadata": {},
          "output_type": "display_data"
        }
      ],
      "source": [
        "# set max_depth = 6\n",
        "dtc = DecisionTreeClassifier(max_depth=6, criterion='entropy',random_state=0)\n",
        "dtc_model=dtc.fit(X_train,y_train)\n",
        "\n",
        "# Visualize classification tree\n",
        "import matplotlib.pyplot as plt\n",
        "from sklearn.tree import plot_tree\n",
        "fn = list(X_train.columns) # specify feature names\n",
        "cn = dtc_model.classes_.astype(str) # convert numpy integers to strings\n",
        "# specify class names\n",
        "plt.figure(figsize = (10,8))\n",
        "plot_tree(dtc_model, feature_names = fn, class_names = cn, filled = True, proportion=True)\n",
        "plt.savefig(\"tree.pdf\");"
      ]
    },
    {
      "cell_type": "code",
      "execution_count": null,
      "id": "8c183d3d",
      "metadata": {
        "id": "8c183d3d",
        "outputId": "2f7b36dd-8b19-4d82-9126-93d422b218b6"
      },
      "outputs": [
        {
          "data": {
            "text/plain": [
              "array([0, 1])"
            ]
          },
          "execution_count": 48,
          "metadata": {},
          "output_type": "execute_result"
        }
      ],
      "source": [
        "# Pick the first sample in the test data and report its estimated probability\n",
        "\n",
        "dtc_model.classes_\n",
        "\n",
        "## 0 == no\n",
        "\n",
        "## 1 == Yes"
      ]
    },
    {
      "cell_type": "code",
      "execution_count": null,
      "id": "097f06e9",
      "metadata": {
        "id": "097f06e9",
        "outputId": "06e9750c-4312-4100-f2bd-0c4bd274126f"
      },
      "outputs": [
        {
          "name": "stdout",
          "output_type": "stream",
          "text": [
            "Plain accuracy of Classification Tree:  0.902889050740471\n"
          ]
        }
      ],
      "source": [
        "# Report this classification tree's plain accuracy in the test data.\n",
        "# evaluate in the test data\n",
        "y_pred=dtc_model.predict(X_test)\n",
        "print(\"Plain accuracy of Classification Tree: \",accuracy_score(y_test, y_pred))"
      ]
    },
    {
      "cell_type": "code",
      "execution_count": null,
      "id": "bea24994",
      "metadata": {
        "id": "bea24994",
        "outputId": "72b371e2-b13c-4ee7-9377-922c3f5a26eb"
      },
      "outputs": [
        {
          "data": {
            "image/png": "[encoded data removed]",
            "text/plain": [
              "<Figure size 800x600 with 1 Axes>"
            ]
          },
          "metadata": {},
          "output_type": "display_data"
        }
      ],
      "source": [
        "from sklearn.metrics import auc, roc_auc_score, roc_curve\n",
        "\n",
        "# Calculate class probabilities, generate ROC curve, and compute AUC\n",
        "y_proba=dtc_model.predict_proba(X_test)[:,1]\n",
        "fpr, tpr, thresholds = roc_curve(y_test, y_proba)\n",
        "classifier_roc_auc = roc_auc_score(y_test, y_proba)\n",
        "\n",
        "# Plot ROC curve\n",
        "plt.figure(figsize=(8, 6))\n",
        "plt.plot(fpr, tpr, label='Classifier (area = %0.2f)' % classifier_roc_auc)\n",
        "\n",
        "# Plot Base Rate ROC\n",
        "plt.plot([0,1], [0,1],label='Baseline', linestyle='--')\n",
        "plt.xlim([0.0, 1.0])\n",
        "plt.ylim([0.0, 1.0])\n",
        "plt.ylabel('True Positive Rate')\n",
        "plt.xlabel('False Positive Rate')\n",
        "plt.title('ROC Curve',fontsize = \"20\")\n",
        "plt.legend(loc=\"lower right\")\n",
        "plt.show()"
      ]
    },
    {
      "cell_type": "code",
      "execution_count": null,
      "id": "e67c804f",
      "metadata": {
        "id": "e67c804f",
        "outputId": "2d3db7f7-6f78-47e8-ff33-c87cad0a6454"
      },
      "outputs": [
        {
          "data": {
            "image/png": "[encoded data removed]",
            "text/plain": [
              "<Figure size 640x480 with 2 Axes>"
            ]
          },
          "metadata": {},
          "output_type": "display_data"
        }
      ],
      "source": [
        "# Show the confusion matrix of this classification tree in the test data\n",
        "# Evaluate using the test data\n",
        "from sklearn.metrics import confusion_matrix\n",
        "from sklearn.metrics import ConfusionMatrixDisplay\n",
        "\n",
        "y_pred = dtc_model.predict(X_test)\n",
        "cm = confusion_matrix(y_test, y_pred, labels=dtc.classes_)\n",
        "disp = ConfusionMatrixDisplay(confusion_matrix=cm, display_labels=dtc.classes_)\n",
        "disp.plot()\n",
        "plt.show()\n"
      ]
    },
    {
      "cell_type": "code",
      "execution_count": null,
      "id": "d770c6bf",
      "metadata": {
        "id": "d770c6bf",
        "outputId": "48e21895-59ac-47ce-aa1a-7bc5d2a8b9ed"
      },
      "outputs": [
        {
          "name": "stdout",
          "output_type": "stream",
          "text": [
            "True positive rate: 0.661\n",
            "False positive rate: 0.088\n"
          ]
        }
      ],
      "source": [
        "# Extract TP, FN, FP, TN\n",
        "TP = cm[1, 1] # True positives (Yes items correctly classified)\n",
        "FN = cm[0, 1] # False negatives (Yes items incorrectly classified as No)\n",
        "FP = cm[1, 0] # False positives (No items incorrectly classified as Yes)\n",
        "TN = cm[0, 0] # True negatives (No items correctly classified)\n",
        "\n",
        "# Calculate TPR and FPR\n",
        "TPR = TP / (TP + FN)\n",
        "FPR = FP / (FP + TN)\n",
        "\n",
        "# Print results\n",
        "print(f\"True positive rate: {TPR:.3f}\")\n",
        "print(f\"False positive rate: {FPR:.3f}\")"
      ]
    },
    {
      "cell_type": "markdown",
      "id": "c739c7a8",
      "metadata": {
        "id": "c739c7a8"
      },
      "source": [
        "## Logistic Regression"
      ]
    },
    {
      "cell_type": "code",
      "execution_count": null,
      "id": "iTNJyZ7SKH4U",
      "metadata": {
        "colab": {
          "base_uri": "https://localhost:8080/"
        },
        "id": "iTNJyZ7SKH4U",
        "outputId": "f96c190f-aef1-4718-b2bf-31e2c8e3949c"
      },
      "outputs": [
        {
          "name": "stdout",
          "output_type": "stream",
          "text": [
            "[[ 0.00443995  0.0154622   0.0273103   0.05335215 -0.03155571  0.0018384\n",
            "  -0.00666042 -0.04690399 -0.07528583  0.0253513  -0.05128065 -0.00157752\n",
            "  -0.00905763  0.02650421 -0.17349898  0.19443468  0.02422174 -0.19096177\n",
            "  -0.00338048]]\n",
            "[0.00214975]\n"
          ]
        }
      ],
      "source": [
        "from sklearn.linear_model import LogisticRegression\n",
        "# use Logistic Regression to train\n",
        "model_LR = LogisticRegression(random_state=0).fit(X_train.values, y_train)\n",
        "\n",
        "# print coefficients and the intercept\n",
        "print(model_LR.coef_)\n",
        "print(model_LR.intercept_)"
      ]
    },
    {
      "cell_type": "code",
      "execution_count": null,
      "id": "8Vu02FaKKYyF",
      "metadata": {
        "colab": {
          "base_uri": "https://localhost:8080/"
        },
        "id": "8Vu02FaKKYyF",
        "outputId": "aa5ef783-e192-4f17-b8a7-7487ebf110b9"
      },
      "outputs": [
        {
          "name": "stdout",
          "output_type": "stream",
          "text": [
            "Accuracy: 0.9046\n",
            "AUC score: 0.7744\n"
          ]
        }
      ],
      "source": [
        "#predit on the testing set\n",
        "\n",
        "# Make predictions on the test set\n",
        "y_pred = model_LR.predict(X_test)\n",
        "\n",
        "# Calculate accuracy\n",
        "accuracy = accuracy_score(y_test, y_pred)\n",
        "\n",
        "# Calculate AUC score\n",
        "y_pred_prob = model_LR.predict_proba(X_test)[:, 1]\n",
        "auc = roc_auc_score(y_test, y_pred_prob)\n",
        "\n",
        "# Print accuracy and AUC score\n",
        "print(\"Accuracy:\", round(accuracy, 4))\n",
        "print(\"AUC score:\", round(auc, 4))\n"
      ]
    },
    {
      "cell_type": "markdown",
      "id": "535c0214",
      "metadata": {
        "id": "535c0214"
      },
      "source": [
        "### Hyperparameter Tuning"
      ]
    },
    {
      "cell_type": "code",
      "execution_count": null,
      "id": "2dfaa3cf",
      "metadata": {
        "id": "2dfaa3cf"
      },
      "outputs": [],
      "source": [
        "from sklearn.model_selection import RandomizedSearchCV"
      ]
    },
    {
      "cell_type": "code",
      "execution_count": null,
      "id": "190d94bb",
      "metadata": {
        "id": "190d94bb",
        "outputId": "02019b87-96e5-48a7-d4f1-0f15ffb6db34"
      },
      "outputs": [
        {
          "name": "stdout",
          "output_type": "stream",
          "text": [
            "Best hyperparameters: {'solver': 'liblinear', 'penalty': 'l1', 'multi_class': 'ovr', 'max_iter': 200, 'C': 1}\n"
          ]
        }
      ],
      "source": [
        "# define logistic regression model\n",
        "model = LogisticRegression()\n",
        "\n",
        "# define hyperparameters to search\n",
        "param_distributions = {\n",
        "    'C': [0.001, 0.01, 0.1, 1, 10],\n",
        "    'penalty': ['l1', 'l2', 'elasticnet'],\n",
        "    'solver': ['liblinear', 'lbfgs', 'sag', 'saga'],\n",
        "    'max_iter': [100, 200, 500],\n",
        "    'multi_class': ['ovr', 'multinomial']\n",
        "}\n",
        "\n",
        "# perform randomized search with cross-validation\n",
        "random_search = RandomizedSearchCV(estimator=model, param_distributions=param_distributions, cv=3, verbose=0, scoring='accuracy', n_iter=50)\n",
        "random_search.fit(X_train, y_train)\n",
        "\n",
        "# print best hyperparameters and corresponding score\n",
        "print('Best hyperparameters:', random_search.best_params_)\n"
      ]
    },
    {
      "cell_type": "code",
      "execution_count": null,
      "id": "c207d6a8",
      "metadata": {
        "id": "c207d6a8",
        "outputId": "b24e15c7-6053-4837-b653-10371c7e88ae"
      },
      "outputs": [
        {
          "name": "stdout",
          "output_type": "stream",
          "text": [
            "Training accuracy: 0.8976795810065554\n",
            "Testing accuracy: 0.904750343934612\n",
            "Training AUC: 0.7731963032126985\n",
            "Testing AUC: 0.7792515130418683\n"
          ]
        }
      ],
      "source": [
        "from sklearn.metrics import accuracy_score, roc_auc_score\n",
        "\n",
        "# Define the logistic regression model with the best hyperparameters\n",
        "model_LR = LogisticRegression(C=0.01, penalty='l1', solver='liblinear', multi_class = 'ovr', max_iter = 200, random_state=42)\n",
        "\n",
        "# Train the model on the training data\n",
        "model_LR.fit(X_train, y_train)\n",
        "\n",
        "# Make predictions on the training and testing data\n",
        "y_train_pred = model_LR.predict(X_train)\n",
        "y_test_pred = model_LR.predict(X_test)\n",
        "\n",
        "# Calculate the accuracy and AUC for the training and testing predictions\n",
        "train_accuracy = accuracy_score(y_train, y_train_pred)\n",
        "test_accuracy = accuracy_score(y_test, y_test_pred)\n",
        "\n",
        "train_auc = roc_auc_score(y_train, model_LR.predict_proba(X_train)[:,1])\n",
        "test_auc = roc_auc_score(y_test, model_LR.predict_proba(X_test)[:,1])\n",
        "\n",
        "print(\"Training accuracy:\", train_accuracy)\n",
        "print(\"Testing accuracy:\", test_accuracy)\n",
        "print(\"Training AUC:\", train_auc)\n",
        "print(\"Testing AUC:\", test_auc)"
      ]
    },
    {
      "cell_type": "markdown",
      "id": "db2cf6d7",
      "metadata": {
        "id": "db2cf6d7",
        "outputId": "e8d023a3-3a1d-4a2a-8348-964cea0365e4"
      },
      "source": [
        "## KNN Model"
      ]
    },
    {
      "cell_type": "code",
      "execution_count": null,
      "id": "6eef4c8a",
      "metadata": {
        "id": "6eef4c8a"
      },
      "outputs": [],
      "source": [
        "#KNN Model\n",
        "from sklearn import neighbors\n",
        "from sklearn.neighbors import KNeighborsClassifier\n",
        "from sklearn.metrics import roc_auc_score, accuracy_score\n",
        "from sklearn.model_selection import cross_val_score"
      ]
    },
    {
      "cell_type": "code",
      "execution_count": null,
      "id": "13e93522",
      "metadata": {
        "id": "13e93522",
        "outputId": "c15452da-ccdb-4cfc-dcf1-da71b8526b50"
      },
      "outputs": [
        {
          "name": "stdout",
          "output_type": "stream",
          "text": [
            "K=1 AUC=0.6256 Accuracy=0.8483\n",
            "K=2 AUC=0.6740 Accuracy=0.8921\n",
            "K=3 AUC=0.7004 Accuracy=0.8858\n",
            "K=4 AUC=0.7199 Accuracy=0.8958\n",
            "K=5 AUC=0.7351 Accuracy=0.8936\n",
            "K=6 AUC=0.7435 Accuracy=0.8984\n",
            "K=7 AUC=0.7474 Accuracy=0.8963\n",
            "K=8 AUC=0.7506 Accuracy=0.8989\n",
            "K=9 AUC=0.7544 Accuracy=0.8995\n",
            "K=10 AUC=0.7568 Accuracy=0.9013\n",
            "K=11 AUC=0.7576 Accuracy=0.9003\n",
            "K=12 AUC=0.7608 Accuracy=0.9018\n",
            "K=13 AUC=0.7638 Accuracy=0.8996\n",
            "K=14 AUC=0.7654 Accuracy=0.9008\n",
            "K=15 AUC=0.7645 Accuracy=0.9009\n",
            "K=16 AUC=0.7653 Accuracy=0.9019\n",
            "K=17 AUC=0.7659 Accuracy=0.9020\n",
            "K=18 AUC=0.7667 Accuracy=0.9023\n",
            "K=19 AUC=0.7682 Accuracy=0.9023\n",
            "K=20 AUC=0.7699 Accuracy=0.9026\n",
            "K=21 AUC=0.7698 Accuracy=0.9022\n",
            "K=22 AUC=0.7701 Accuracy=0.9026\n",
            "K=23 AUC=0.7708 Accuracy=0.9022\n",
            "K=24 AUC=0.7718 Accuracy=0.9035\n",
            "K=25 AUC=0.7741 Accuracy=0.9026\n",
            "K=26 AUC=0.7755 Accuracy=0.9035\n",
            "K=27 AUC=0.7757 Accuracy=0.9031\n",
            "K=28 AUC=0.7758 Accuracy=0.9027\n",
            "K=29 AUC=0.7753 Accuracy=0.9035\n",
            "K=30 AUC=0.7755 Accuracy=0.9038\n",
            "K=31 AUC=0.7761 Accuracy=0.9040\n",
            "K=32 AUC=0.7762 Accuracy=0.9035\n",
            "K=33 AUC=0.7775 Accuracy=0.9032\n",
            "K=34 AUC=0.7770 Accuracy=0.9039\n",
            "K=35 AUC=0.7776 Accuracy=0.9031\n"
          ]
        },
        {
          "data": {
            "image/png": "[encoded data removed]",
            "text/plain": [
              "<Figure size 640x480 with 1 Axes>"
            ]
          },
          "metadata": {},
          "output_type": "display_data"
        }
      ],
      "source": [
        "from sklearn.metrics import roc_auc_score, accuracy_score\n",
        "\n",
        "k_range = 35\n",
        "auc_scores = []\n",
        "accuracy_scores = []\n",
        "\n",
        "for k in range(1, k_range+1):\n",
        "    knn = KNeighborsClassifier(n_neighbors=k)\n",
        "    knn.fit(X_train, y_train)\n",
        "    y_pred_prob = knn.predict_proba(X_test)[:, 1]  # use the test set here\n",
        "    auc = roc_auc_score(y_test, y_pred_prob)  # evaluate on the test set\n",
        "    auc_scores.append(auc)\n",
        "    y_pred = knn.predict(X_test)  # evaluate on the test set\n",
        "    accuracy = accuracy_score(y_test, y_pred)  # evaluate on the test set\n",
        "    accuracy_scores.append(accuracy)\n",
        "    print(f\"K={k} AUC={auc:.4f} Accuracy={accuracy:.4f}\")\n",
        "\n",
        "# plot the results\n",
        "import matplotlib.pyplot as plt\n",
        "plt.plot(range(1, k_range+1), auc_scores, label=\"AUC\")\n",
        "plt.plot(range(1, k_range+1), accuracy_scores, label=\"Accuracy\")\n",
        "plt.xlabel(\"K\")\n",
        "plt.legend()\n",
        "plt.show()\n"
      ]
    },
    {
      "cell_type": "markdown",
      "id": "b325adcd",
      "metadata": {
        "id": "b325adcd"
      },
      "source": [
        "Based on the AUC and accuracy scores, we can see that the performance of the KNN classifier improves initially as K increases, but then starts to level off after a certain value of K. The highest AUC score achieved is 0.7776 with K=35 and the highest accuracy score is 0.9040 with K=31.\n",
        "\n",
        "The choice of K ultimately depends on the specific problem and the importance of accuracy and AUC in the given context. For instance, if identifying true positives is of utmost importance, we would select K that achieves the highest TPR. On the other hand, if identifying true negatives is crucial, we would select K that minimizes FPR.\n",
        "\n",
        "For this case, we would like to choose the k model depending on the true positive."
      ]
    },
    {
      "cell_type": "code",
      "execution_count": null,
      "id": "7c32895d",
      "metadata": {
        "id": "7c32895d",
        "outputId": "07249eda-16ea-4396-840a-a24f2bb19147"
      },
      "outputs": [
        {
          "name": "stdout",
          "output_type": "stream",
          "text": [
            "True positives for k=35: 289\n",
            "True positives for k=31: 301\n"
          ]
        }
      ],
      "source": [
        "# Train the model with k=35 on the training set\n",
        "knn_35 = KNeighborsClassifier(n_neighbors=35)\n",
        "knn_35.fit(X_train, y_train)\n",
        "\n",
        "# Train the model with k=31 on the training set\n",
        "knn_31 = KNeighborsClassifier(n_neighbors=31)\n",
        "knn_31.fit(X_train, y_train)\n",
        "\n",
        "# Predict the classes for the test set using both models\n",
        "y_pred_35 = knn_35.predict(X_test)\n",
        "y_pred_31 = knn_31.predict(X_test)\n",
        "\n",
        "# Calculate the number of true positives for both models\n",
        "tp_35 = sum((y_test == 1) & (y_pred_35 == 1))\n",
        "tp_31 = sum((y_test == 1) & (y_pred_31 == 1))\n",
        "\n",
        "print(f\"True positives for k=35: {tp_35}\")\n",
        "print(f\"True positives for k=31: {tp_31}\")"
      ]
    },
    {
      "cell_type": "markdown",
      "id": "a0f10758",
      "metadata": {
        "id": "a0f10758"
      },
      "source": [
        "Based on the true positive values, the model with k=31 seems to be better than the model with k=35, since it correctly identified more positive cases."
      ]
    },
    {
      "cell_type": "markdown",
      "id": "637d9d9c",
      "metadata": {
        "id": "637d9d9c"
      },
      "source": [
        "### SVM"
      ]
    },
    {
      "cell_type": "code",
      "execution_count": null,
      "id": "2044c3dc",
      "metadata": {
        "id": "2044c3dc",
        "outputId": "ec5fbc21-117e-47c9-f32f-214b4358f558"
      },
      "outputs": [
        {
          "data": {
            "image/png": "[encoded data removed]",
            "text/plain": [
              "<Figure size 640x480 with 1 Axes>"
            ]
          },
          "metadata": {},
          "output_type": "display_data"
        },
        {
          "name": "stdout",
          "output_type": "stream",
          "text": [
            "The best C by cross-validation is 3274.549162877725\n"
          ]
        }
      ],
      "source": [
        "from sklearn.svm import SVC\n",
        "\n",
        "\n",
        "scores_list = []\n",
        "C_list = np.logspace(-2, 5, 100)\n",
        "for C_val in C_list:\n",
        "    model = SVC(kernel='rbf', C=C_val)\n",
        "    scores = cross_val_score(model, X_train, y_train, cv=3, scoring='accuracy')\n",
        "    scores_list.append(scores.mean())\n",
        "\n",
        "plt.plot(C_list, scores_list, color='blue', marker='.', markersize=8, markeredgecolor='black', markerfacecolor='black', label='Score')\n",
        "plt.title('Accuracy Score vs C')\n",
        "plt.xscale('log')\n",
        "plt.show()\n",
        "\n",
        "index = np.argmax(np.array(scores_list))\n",
        "C_best = C_list[index]\n",
        "print('The best C by cross-validation is', C_best)\n"
      ]
    },
    {
      "cell_type": "code",
      "execution_count": null,
      "id": "2db5b45e",
      "metadata": {
        "id": "2db5b45e",
        "outputId": "e68721de-14d9-46cc-8cd8-24f0006aa071"
      },
      "outputs": [
        {
          "name": "stdout",
          "output_type": "stream",
          "text": [
            "Accuracy: 0.9038\n",
            "AUC: 0.7859\n"
          ]
        }
      ],
      "source": [
        "svm_model = SVC(kernel='rbf', C=C_best,probability=True)\n",
        "\n",
        "from sklearn.metrics import accuracy_score, roc_auc_score\n",
        "\n",
        "# Fit the SVM model with the best hyperparameters on the training data\n",
        "svm_model.fit(X_train, y_train)\n",
        "\n",
        "# Get predictions on the test data\n",
        "y_pred = svm_model.predict(X_test)\n",
        "y_pred_prob = svm_model.predict_proba(X_test)[:, 1]\n",
        "\n",
        "# Calculate and print the accuracy and AUC score\n",
        "accuracy = accuracy_score(y_test, y_pred)\n",
        "auc_score = roc_auc_score(y_test, y_pred_prob)\n",
        "print('Accuracy:', round(accuracy, 4))\n",
        "print('AUC:', round(auc_score, 4))"
      ]
    },
    {
      "cell_type": "markdown",
      "id": "d7139def",
      "metadata": {
        "id": "d7139def"
      },
      "source": [
        "### Random Forest"
      ]
    },
    {
      "cell_type": "code",
      "execution_count": null,
      "id": "b10aff7a",
      "metadata": {
        "id": "b10aff7a"
      },
      "outputs": [],
      "source": [
        "from sklearn.ensemble import RandomForestClassifier\n",
        "from pprint import pprint\n",
        "from sklearn.model_selection import GridSearchCV\n",
        "from sklearn.model_selection import RandomizedSearchCV\n",
        "from sklearn.metrics import accuracy_score\n",
        "from sklearn.preprocessing import scale\n",
        "from sklearn.metrics import roc_auc_score"
      ]
    },
    {
      "cell_type": "code",
      "execution_count": null,
      "id": "8a4df0a4",
      "metadata": {
        "id": "8a4df0a4"
      },
      "outputs": [],
      "source": [
        "#Make the Random Forest Classification model\n",
        "#Origin Setting is 10 decision trees in the random forest\n",
        "Classif_RF = RandomForestClassifier(n_estimators=10, random_state=0).fit(scale(X_train), y_train)"
      ]
    },
    {
      "cell_type": "code",
      "execution_count": null,
      "id": "54a856f6",
      "metadata": {
        "id": "54a856f6",
        "outputId": "bb74286a-37e7-462a-fc83-58f7debd9276"
      },
      "outputs": [
        {
          "name": "stdout",
          "output_type": "stream",
          "text": [
            "random forest accuracy: 0.8958\n",
            "AUC: 0.6213\n"
          ]
        }
      ],
      "source": [
        "Classif_RF.fit(X_train, y_train)\n",
        "pred = Classif_RF.predict(X_test)\n",
        "accuracy = accuracy_score(y_test, pred)\n",
        "auc = roc_auc_score(y_test, pred)\n",
        "print('random forest accuracy: {:.4f}'.format(accuracy))\n",
        "print('AUC: {:.4f}'.format(auc))"
      ]
    },
    {
      "cell_type": "markdown",
      "id": "922dbe16",
      "metadata": {
        "id": "922dbe16"
      },
      "source": [
        "### Hyperparameter using RandomForestClassifier"
      ]
    },
    {
      "cell_type": "code",
      "execution_count": null,
      "id": "abc7f792",
      "metadata": {
        "id": "abc7f792",
        "outputId": "cb530d3e-f48a-4e68-9d70-33386ac0a85f"
      },
      "outputs": [
        {
          "name": "stdout",
          "output_type": "stream",
          "text": [
            "{'bootstrap': [True, False],\n",
            " 'max_depth': [6, 8, 10, 12],\n",
            " 'max_features': ['sqrt', 'log2', None],\n",
            " 'min_samples_leaf': [1, 2, 4],\n",
            " 'min_samples_split': [2, 5, 10],\n",
            " 'n_estimators': [10, 100]}\n"
          ]
        }
      ],
      "source": [
        "# Number of trees in random forest\n",
        "n_estimators = [10, 100]\n",
        "# Number of features to consider at every split\n",
        "max_features = ['sqrt', 'log2',None]\n",
        "# Maximum number of levels in tree\n",
        "max_depth = [6, 8, 10, 12]\n",
        "# Minimum number of samples required to split a node\n",
        "min_samples_split = [2, 5, 10]\n",
        "# Minimum number of samples required at each leaf node\n",
        "min_samples_leaf = [1, 2, 4]\n",
        "# Method of selecting samples for training each tree\n",
        "bootstrap = [True, False]\n",
        "\n",
        "# Create the random grid\n",
        "random_grid = {'n_estimators': n_estimators,\n",
        "               'max_features': max_features,\n",
        "               'max_depth': max_depth,\n",
        "               'min_samples_split': min_samples_split,\n",
        "               'min_samples_leaf': min_samples_leaf,\n",
        "               'bootstrap': bootstrap}\n",
        "\n",
        "pprint(random_grid)"
      ]
    },
    {
      "cell_type": "code",
      "execution_count": null,
      "id": "298ee6bc",
      "metadata": {
        "id": "298ee6bc",
        "outputId": "51eb073b-9e2a-466a-fbba-672ba6572f7a"
      },
      "outputs": [
        {
          "data": {
            "text/html": [
              "<style>#sk-container-id-1 {color: black;background-color: white;}#sk-container-id-1 pre{padding: 0;}#sk-container-id-1 div.sk-toggleable {background-color: white;}#sk-container-id-1 label.sk-toggleable__label {cursor: pointer;display: block;width: 100%;margin-bottom: 0;padding: 0.3em;box-sizing: border-box;text-align: center;}#sk-container-id-1 label.sk-toggleable__label-arrow:before {content: \"▸\";float: left;margin-right: 0.25em;color: #696969;}#sk-container-id-1 label.sk-toggleable__label-arrow:hover:before {color: black;}#sk-container-id-1 div.sk-estimator:hover label.sk-toggleable__label-arrow:before {color: black;}#sk-container-id-1 div.sk-toggleable__content {max-height: 0;max-width: 0;overflow: hidden;text-align: left;background-color: #f0f8ff;}#sk-container-id-1 div.sk-toggleable__content pre {margin: 0.2em;color: black;border-radius: 0.25em;background-color: #f0f8ff;}#sk-container-id-1 input.sk-toggleable__control:checked~div.sk-toggleable__content {max-height: 200px;max-width: 100%;overflow: auto;}#sk-container-id-1 input.sk-toggleable__control:checked~label.sk-toggleable__label-arrow:before {content: \"▾\";}#sk-container-id-1 div.sk-estimator input.sk-toggleable__control:checked~label.sk-toggleable__label {background-color: #d4ebff;}#sk-container-id-1 div.sk-label input.sk-toggleable__control:checked~label.sk-toggleable__label {background-color: #d4ebff;}#sk-container-id-1 input.sk-hidden--visually {border: 0;clip: rect(1px 1px 1px 1px);clip: rect(1px, 1px, 1px, 1px);height: 1px;margin: -1px;overflow: hidden;padding: 0;position: absolute;width: 1px;}#sk-container-id-1 div.sk-estimator {font-family: monospace;background-color: #f0f8ff;border: 1px dotted black;border-radius: 0.25em;box-sizing: border-box;margin-bottom: 0.5em;}#sk-container-id-1 div.sk-estimator:hover {background-color: #d4ebff;}#sk-container-id-1 div.sk-parallel-item::after {content: \"\";width: 100%;border-bottom: 1px solid gray;flex-grow: 1;}#sk-container-id-1 div.sk-label:hover label.sk-toggleable__label {background-color: #d4ebff;}#sk-container-id-1 div.sk-serial::before {content: \"\";position: absolute;border-left: 1px solid gray;box-sizing: border-box;top: 0;bottom: 0;left: 50%;z-index: 0;}#sk-container-id-1 div.sk-serial {display: flex;flex-direction: column;align-items: center;background-color: white;padding-right: 0.2em;padding-left: 0.2em;position: relative;}#sk-container-id-1 div.sk-item {position: relative;z-index: 1;}#sk-container-id-1 div.sk-parallel {display: flex;align-items: stretch;justify-content: center;background-color: white;position: relative;}#sk-container-id-1 div.sk-item::before, #sk-container-id-1 div.sk-parallel-item::before {content: \"\";position: absolute;border-left: 1px solid gray;box-sizing: border-box;top: 0;bottom: 0;left: 50%;z-index: -1;}#sk-container-id-1 div.sk-parallel-item {display: flex;flex-direction: column;z-index: 1;position: relative;background-color: white;}#sk-container-id-1 div.sk-parallel-item:first-child::after {align-self: flex-end;width: 50%;}#sk-container-id-1 div.sk-parallel-item:last-child::after {align-self: flex-start;width: 50%;}#sk-container-id-1 div.sk-parallel-item:only-child::after {width: 0;}#sk-container-id-1 div.sk-dashed-wrapped {border: 1px dashed gray;margin: 0 0.4em 0.5em 0.4em;box-sizing: border-box;padding-bottom: 0.4em;background-color: white;}#sk-container-id-1 div.sk-label label {font-family: monospace;font-weight: bold;display: inline-block;line-height: 1.2em;}#sk-container-id-1 div.sk-label-container {text-align: center;}#sk-container-id-1 div.sk-container {/* jupyter's `normalize.less` sets `[hidden] { display: none; }` but bootstrap.min.css set `[hidden] { display: none !important; }` so we also need the `!important` here to be able to override the default hidden behavior on the sphinx rendered scikit-learn.org. See: https://github.com/scikit-learn/scikit-learn/issues/21755 */display: inline-block !important;position: relative;}#sk-container-id-1 div.sk-text-repr-fallback {display: none;}</style><div id=\"sk-container-id-1\" class=\"sk-top-container\"><div class=\"sk-text-repr-fallback\"><pre>GridSearchCV(cv=3, estimator=RandomForestClassifier(n_jobs=-1, random_state=0),\n",
              "             n_jobs=-1,\n",
              "             param_grid={&#x27;bootstrap&#x27;: [True, False],\n",
              "                         &#x27;max_depth&#x27;: [6, 8, 10, 12],\n",
              "                         &#x27;max_features&#x27;: [&#x27;sqrt&#x27;, &#x27;log2&#x27;, None],\n",
              "                         &#x27;min_samples_leaf&#x27;: [1, 2, 4],\n",
              "                         &#x27;min_samples_split&#x27;: [2, 5, 10],\n",
              "                         &#x27;n_estimators&#x27;: [10, 100]})</pre><b>In a Jupyter environment, please rerun this cell to show the HTML representation or trust the notebook. <br />On GitHub, the HTML representation is unable to render, please try loading this page with nbviewer.org.</b></div><div class=\"sk-container\" hidden><div class=\"sk-item sk-dashed-wrapped\"><div class=\"sk-label-container\"><div class=\"sk-label sk-toggleable\"><input class=\"sk-toggleable__control sk-hidden--visually\" id=\"sk-estimator-id-1\" type=\"checkbox\" ><label for=\"sk-estimator-id-1\" class=\"sk-toggleable__label sk-toggleable__label-arrow\">GridSearchCV</label><div class=\"sk-toggleable__content\"><pre>GridSearchCV(cv=3, estimator=RandomForestClassifier(n_jobs=-1, random_state=0),\n",
              "             n_jobs=-1,\n",
              "             param_grid={&#x27;bootstrap&#x27;: [True, False],\n",
              "                         &#x27;max_depth&#x27;: [6, 8, 10, 12],\n",
              "                         &#x27;max_features&#x27;: [&#x27;sqrt&#x27;, &#x27;log2&#x27;, None],\n",
              "                         &#x27;min_samples_leaf&#x27;: [1, 2, 4],\n",
              "                         &#x27;min_samples_split&#x27;: [2, 5, 10],\n",
              "                         &#x27;n_estimators&#x27;: [10, 100]})</pre></div></div></div><div class=\"sk-parallel\"><div class=\"sk-parallel-item\"><div class=\"sk-item\"><div class=\"sk-label-container\"><div class=\"sk-label sk-toggleable\"><input class=\"sk-toggleable__control sk-hidden--visually\" id=\"sk-estimator-id-2\" type=\"checkbox\" ><label for=\"sk-estimator-id-2\" class=\"sk-toggleable__label sk-toggleable__label-arrow\">estimator: RandomForestClassifier</label><div class=\"sk-toggleable__content\"><pre>RandomForestClassifier(n_jobs=-1, random_state=0)</pre></div></div></div><div class=\"sk-serial\"><div class=\"sk-item\"><div class=\"sk-estimator sk-toggleable\"><input class=\"sk-toggleable__control sk-hidden--visually\" id=\"sk-estimator-id-3\" type=\"checkbox\" ><label for=\"sk-estimator-id-3\" class=\"sk-toggleable__label sk-toggleable__label-arrow\">RandomForestClassifier</label><div class=\"sk-toggleable__content\"><pre>RandomForestClassifier(n_jobs=-1, random_state=0)</pre></div></div></div></div></div></div></div></div></div></div>"
            ],
            "text/plain": [
              "GridSearchCV(cv=3, estimator=RandomForestClassifier(n_jobs=-1, random_state=0),\n",
              "             n_jobs=-1,\n",
              "             param_grid={'bootstrap': [True, False],\n",
              "                         'max_depth': [6, 8, 10, 12],\n",
              "                         'max_features': ['sqrt', 'log2', None],\n",
              "                         'min_samples_leaf': [1, 2, 4],\n",
              "                         'min_samples_split': [2, 5, 10],\n",
              "                         'n_estimators': [10, 100]})"
            ]
          },
          "execution_count": 73,
          "metadata": {},
          "output_type": "execute_result"
        }
      ],
      "source": [
        "# Use the random grid to search for best hyperparameters\n",
        "# First create the base model to tune\n",
        "Classif_RF = RandomForestClassifier(random_state = 0, n_jobs = -1)\n",
        "# Random search of parameters, using 3 fold cross validation,\n",
        "Classif_RF_random = GridSearchCV(Classif_RF, param_grid = random_grid, verbose=0,cv = 3, n_jobs = -1)\n",
        "# Fit the random search model\n",
        "Classif_RF_random.fit(scale(X_train), y_train)"
      ]
    },
    {
      "cell_type": "code",
      "execution_count": null,
      "id": "ae19e462",
      "metadata": {
        "id": "ae19e462",
        "outputId": "b76f4ad2-6195-4cd1-d1e6-e865c52aa7ae"
      },
      "outputs": [
        {
          "name": "stdout",
          "output_type": "stream",
          "text": [
            "Optimal Hyperparameter:  {'bootstrap': True, 'max_depth': 6, 'max_features': None, 'min_samples_leaf': 4, 'min_samples_split': 2, 'n_estimators': 100}\n",
            "Optimal Accuracy: 0.8992\n"
          ]
        }
      ],
      "source": [
        "print('Optimal Hyperparameter: ', Classif_RF_random.best_params_)\n",
        "print('Optimal Accuracy: {:.4f}'.format(Classif_RF_random.best_score_))"
      ]
    },
    {
      "cell_type": "code",
      "execution_count": null,
      "id": "cb1c2755",
      "metadata": {
        "id": "cb1c2755",
        "outputId": "49be5c29-2c34-4dea-e7e2-ca4cc464705e"
      },
      "outputs": [
        {
          "name": "stdout",
          "output_type": "stream",
          "text": [
            "Accuracy: 0.9060\n",
            "AUC: 0.6231\n"
          ]
        }
      ],
      "source": [
        "#To measure the prediction performance on the test set data,\n",
        "#you can train a new model with the optimal hyperparameters obtained from the hyperparameter tuning process,\n",
        "#and then evaluate its performance on the test set.\n",
        "Classif_RF_random_best = RandomForestClassifier(n_estimators= 100,\n",
        "               max_features = None,\n",
        "               max_depth = 6,\n",
        "               min_samples_split=2,\n",
        "               min_samples_leaf=4,\n",
        "               bootstrap=True,verbose=0)\n",
        "\n",
        "Classif_RF_random_best.fit(X_train, y_train)\n",
        "pred = Classif_RF_random_best.predict(X_test)\n",
        "auc = roc_auc_score(y_test, pred)\n",
        "print('Accuracy: {:.4f}'.format(accuracy_score(y_test,pred)))\n",
        "print('AUC: {:.4f}'.format(auc))"
      ]
    },
    {
      "cell_type": "code",
      "execution_count": null,
      "id": "07ed4a2a",
      "metadata": {
        "id": "07ed4a2a",
        "outputId": "3b4017f6-5221-4d40-a188-7244c8757de5"
      },
      "outputs": [
        {
          "data": {
            "image/png": "[encoded data removed]",
            "text/plain": [
              "<Figure size 800x600 with 1 Axes>"
            ]
          },
          "metadata": {},
          "output_type": "display_data"
        }
      ],
      "source": [
        "### Features importance\n",
        "\n",
        "%matplotlib inline\n",
        "\n",
        "ftr_importances_values = Classif_RF_random_best.feature_importances_\n",
        "ftr_importances = pd.Series(ftr_importances_values, index = X_train.columns)\n",
        "ftr_top10 = ftr_importances.sort_values(ascending=False)[:10]\n",
        "\n",
        "plt.figure(figsize=(8,6))\n",
        "plt.title('Top 10 Feature Importances')\n",
        "sns.barplot(x=ftr_top10, y=ftr_top10.index)\n",
        "plt.show()"
      ]
    },
    {
      "cell_type": "code",
      "execution_count": null,
      "id": "0d402385",
      "metadata": {
        "scrolled": true,
        "id": "0d402385",
        "outputId": "7f39e25c-c511-4af9-b9fb-6ead1c958e15"
      },
      "outputs": [
        {
          "name": "stdout",
          "output_type": "stream",
          "text": [
            "Feature 0: 0.034\n",
            "Feature 1: 0.009\n",
            "Feature 2: 0.002\n",
            "Feature 3: 0.009\n",
            "Feature 4: 0.000\n",
            "Feature 5: 0.003\n",
            "Feature 6: 0.003\n",
            "Feature 7: 0.019\n",
            "Feature 8: 0.030\n",
            "Feature 9: 0.023\n",
            "Feature 10: 0.014\n",
            "Feature 11: 0.048\n",
            "Feature 12: 0.007\n",
            "Feature 13: 0.073\n",
            "Feature 14: 0.004\n",
            "Feature 15: 0.010\n",
            "Feature 16: 0.063\n",
            "Feature 17: 0.068\n",
            "Feature 18: 0.582\n"
          ]
        }
      ],
      "source": [
        "# Get the feature importance scores\n",
        "importances = Classif_RF_random_best.feature_importances_\n",
        "\n",
        "# Print the feature importance scores\n",
        "for i, importance in enumerate(importances):\n",
        "    print(f\"Feature {i}: {importance:.3f}\")"
      ]
    },
    {
      "cell_type": "markdown",
      "id": "4fb8a331",
      "metadata": {
        "id": "4fb8a331"
      },
      "source": [
        "The number of employees in a quarter, represented by the 'nr.employed' variable, can be seen as a proxy for the overall state of the economy. When the economy is doing well and there are more jobs available, the number of employed people is likely to be higher, and vice versa. This can impact people's financial situation and their willingness to invest in a term deposit. For example, in a good economic situation, people may feel more confident about their financial situation and be more likely to invest in stock market instead of bank by making a term deposit. On the other hand, in a poor economic situation, people may be less likely to invest in stock market and more likely to invest in bank and prioritize their spending on necessities.\n",
        "\n",
        "\n",
        "If the number of employees is low, it might indicate a recession or an economic downturn, which could lead to a decrease in consumer spending and a higher willingness to invest in bank and save there money like term deposits. However, there are several reasons why a low number of employees could actually lead to better success in investing in a term deposit:\n",
        "\n",
        "Interest rates tend to be lower during a recession or economic downturn, which means that the return on investment for term deposits may be relatively higher compared to other investment options. This can make term deposits more attractive to investors looking for stable, low-risk investments.\n",
        "\n",
        "A low number of employees could indicate that people are more cautious with their money and are looking for safe and stable investments. Term deposits are generally considered to be a low-risk investment option, so people may be more willing to invest in them during an economic downturn.\n",
        "\n",
        "During a recession, banks and other financial institutions may be more willing to offer higher interest rates or other incentives to attract deposits. This can make term deposits a more attractive option for investors looking to maximize their returns.\n",
        "\n",
        "Overall, while a low number of employees may indicate a challenging economic situation, it does not necessarily mean that investing in a term deposit would be a bad decision. In fact, it is possible that a low number of employees could lead to better success in investing in a term deposit, due to the factors outlined above.\n",
        "\n",
        "Therefore, the 'nr.employed' variable can be a strong predictor of whether a client will subscribe to a term deposit or not, as it provides information about the overall economic context in which the client is making their decision. This is why it is highly correlated to the prediction."
      ]
    },
    {
      "cell_type": "markdown",
      "id": "07a23915",
      "metadata": {
        "id": "07a23915"
      },
      "source": [
        "## XGBoost"
      ]
    },
    {
      "cell_type": "code",
      "execution_count": null,
      "id": "9b863f96",
      "metadata": {
        "id": "9b863f96",
        "outputId": "55d8bec6-119e-4dcf-ec03-c23b28c7931a"
      },
      "outputs": [
        {
          "name": "stdout",
          "output_type": "stream",
          "text": [
            "Requirement already satisfied: xgboost in /Users/joonkyuhong/anaconda3/lib/python3.10/site-packages (1.7.5)\r\n",
            "Requirement already satisfied: scipy in /Users/joonkyuhong/anaconda3/lib/python3.10/site-packages (from xgboost) (1.10.0)\r\n",
            "Requirement already satisfied: numpy in /Users/joonkyuhong/anaconda3/lib/python3.10/site-packages (from xgboost) (1.23.5)\r\n"
          ]
        }
      ],
      "source": [
        "!pip install xgboost"
      ]
    },
    {
      "cell_type": "code",
      "execution_count": null,
      "id": "55c35e3e",
      "metadata": {
        "id": "55c35e3e"
      },
      "outputs": [],
      "source": [
        "from sklearn.model_selection import RandomizedSearchCV, GridSearchCV\n",
        "from sklearn.model_selection import StratifiedKFold\n",
        "import xgboost as xgb"
      ]
    },
    {
      "cell_type": "code",
      "execution_count": null,
      "id": "ad8726bd",
      "metadata": {
        "id": "ad8726bd",
        "outputId": "be4984f5-74a0-480b-8b6b-dfde48108a74"
      },
      "outputs": [
        {
          "name": "stdout",
          "output_type": "stream",
          "text": [
            "The best hyperparameters are  {'learning_rate': 0.1, 'max_depth': 5, 'n_estimators': 10}\n"
          ]
        }
      ],
      "source": [
        "clf_xgb = xgb.XGBClassifier(eval_metric='logloss')\n",
        "\n",
        "param_grid = {\"max_depth\":    [1, 2 , 4, 5, 6, 8, 10],\n",
        "              \"n_estimators\": [10, 100],\n",
        "              \"learning_rate\": [0.01,  0.015, 0.05 , 0.1]}\n",
        "\n",
        "search = GridSearchCV(clf_xgb, param_grid, cv=3).fit(scale(X_train), y_train)\n",
        "\n",
        "print(\"The best hyperparameters are \", search.best_params_)"
      ]
    },
    {
      "cell_type": "code",
      "execution_count": null,
      "id": "ca630dff",
      "metadata": {
        "id": "ca630dff",
        "outputId": "55630bf8-d063-4406-b87f-bafbbb072fc7"
      },
      "outputs": [
        {
          "data": {
            "text/html": [
              "<style>#sk-container-id-2 {color: black;background-color: white;}#sk-container-id-2 pre{padding: 0;}#sk-container-id-2 div.sk-toggleable {background-color: white;}#sk-container-id-2 label.sk-toggleable__label {cursor: pointer;display: block;width: 100%;margin-bottom: 0;padding: 0.3em;box-sizing: border-box;text-align: center;}#sk-container-id-2 label.sk-toggleable__label-arrow:before {content: \"▸\";float: left;margin-right: 0.25em;color: #696969;}#sk-container-id-2 label.sk-toggleable__label-arrow:hover:before {color: black;}#sk-container-id-2 div.sk-estimator:hover label.sk-toggleable__label-arrow:before {color: black;}#sk-container-id-2 div.sk-toggleable__content {max-height: 0;max-width: 0;overflow: hidden;text-align: left;background-color: #f0f8ff;}#sk-container-id-2 div.sk-toggleable__content pre {margin: 0.2em;color: black;border-radius: 0.25em;background-color: #f0f8ff;}#sk-container-id-2 input.sk-toggleable__control:checked~div.sk-toggleable__content {max-height: 200px;max-width: 100%;overflow: auto;}#sk-container-id-2 input.sk-toggleable__control:checked~label.sk-toggleable__label-arrow:before {content: \"▾\";}#sk-container-id-2 div.sk-estimator input.sk-toggleable__control:checked~label.sk-toggleable__label {background-color: #d4ebff;}#sk-container-id-2 div.sk-label input.sk-toggleable__control:checked~label.sk-toggleable__label {background-color: #d4ebff;}#sk-container-id-2 input.sk-hidden--visually {border: 0;clip: rect(1px 1px 1px 1px);clip: rect(1px, 1px, 1px, 1px);height: 1px;margin: -1px;overflow: hidden;padding: 0;position: absolute;width: 1px;}#sk-container-id-2 div.sk-estimator {font-family: monospace;background-color: #f0f8ff;border: 1px dotted black;border-radius: 0.25em;box-sizing: border-box;margin-bottom: 0.5em;}#sk-container-id-2 div.sk-estimator:hover {background-color: #d4ebff;}#sk-container-id-2 div.sk-parallel-item::after {content: \"\";width: 100%;border-bottom: 1px solid gray;flex-grow: 1;}#sk-container-id-2 div.sk-label:hover label.sk-toggleable__label {background-color: #d4ebff;}#sk-container-id-2 div.sk-serial::before {content: \"\";position: absolute;border-left: 1px solid gray;box-sizing: border-box;top: 0;bottom: 0;left: 50%;z-index: 0;}#sk-container-id-2 div.sk-serial {display: flex;flex-direction: column;align-items: center;background-color: white;padding-right: 0.2em;padding-left: 0.2em;position: relative;}#sk-container-id-2 div.sk-item {position: relative;z-index: 1;}#sk-container-id-2 div.sk-parallel {display: flex;align-items: stretch;justify-content: center;background-color: white;position: relative;}#sk-container-id-2 div.sk-item::before, #sk-container-id-2 div.sk-parallel-item::before {content: \"\";position: absolute;border-left: 1px solid gray;box-sizing: border-box;top: 0;bottom: 0;left: 50%;z-index: -1;}#sk-container-id-2 div.sk-parallel-item {display: flex;flex-direction: column;z-index: 1;position: relative;background-color: white;}#sk-container-id-2 div.sk-parallel-item:first-child::after {align-self: flex-end;width: 50%;}#sk-container-id-2 div.sk-parallel-item:last-child::after {align-self: flex-start;width: 50%;}#sk-container-id-2 div.sk-parallel-item:only-child::after {width: 0;}#sk-container-id-2 div.sk-dashed-wrapped {border: 1px dashed gray;margin: 0 0.4em 0.5em 0.4em;box-sizing: border-box;padding-bottom: 0.4em;background-color: white;}#sk-container-id-2 div.sk-label label {font-family: monospace;font-weight: bold;display: inline-block;line-height: 1.2em;}#sk-container-id-2 div.sk-label-container {text-align: center;}#sk-container-id-2 div.sk-container {/* jupyter's `normalize.less` sets `[hidden] { display: none; }` but bootstrap.min.css set `[hidden] { display: none !important; }` so we also need the `!important` here to be able to override the default hidden behavior on the sphinx rendered scikit-learn.org. See: https://github.com/scikit-learn/scikit-learn/issues/21755 */display: inline-block !important;position: relative;}#sk-container-id-2 div.sk-text-repr-fallback {display: none;}</style><div id=\"sk-container-id-2\" class=\"sk-top-container\"><div class=\"sk-text-repr-fallback\"><pre>XGBClassifier(base_score=None, booster=None, callbacks=None,\n",
              "              colsample_bylevel=None, colsample_bynode=None,\n",
              "              colsample_bytree=None, early_stopping_rounds=None,\n",
              "              enable_categorical=False, eval_metric=&#x27;rmse&#x27;, feature_types=None,\n",
              "              gamma=None, gpu_id=None, grow_policy=None, importance_type=None,\n",
              "              interaction_constraints=None, learning_rate=0.1, max_bin=None,\n",
              "              max_cat_threshold=None, max_cat_to_onehot=None,\n",
              "              max_delta_step=None, max_depth=5, max_leaves=None,\n",
              "              min_child_weight=None, missing=nan, monotone_constraints=None,\n",
              "              n_estimators=10, n_jobs=None, num_parallel_tree=None,\n",
              "              predictor=None, random_state=None, ...)</pre><b>In a Jupyter environment, please rerun this cell to show the HTML representation or trust the notebook. <br />On GitHub, the HTML representation is unable to render, please try loading this page with nbviewer.org.</b></div><div class=\"sk-container\" hidden><div class=\"sk-item\"><div class=\"sk-estimator sk-toggleable\"><input class=\"sk-toggleable__control sk-hidden--visually\" id=\"sk-estimator-id-4\" type=\"checkbox\" checked><label for=\"sk-estimator-id-4\" class=\"sk-toggleable__label sk-toggleable__label-arrow\">XGBClassifier</label><div class=\"sk-toggleable__content\"><pre>XGBClassifier(base_score=None, booster=None, callbacks=None,\n",
              "              colsample_bylevel=None, colsample_bynode=None,\n",
              "              colsample_bytree=None, early_stopping_rounds=None,\n",
              "              enable_categorical=False, eval_metric=&#x27;rmse&#x27;, feature_types=None,\n",
              "              gamma=None, gpu_id=None, grow_policy=None, importance_type=None,\n",
              "              interaction_constraints=None, learning_rate=0.1, max_bin=None,\n",
              "              max_cat_threshold=None, max_cat_to_onehot=None,\n",
              "              max_delta_step=None, max_depth=5, max_leaves=None,\n",
              "              min_child_weight=None, missing=nan, monotone_constraints=None,\n",
              "              n_estimators=10, n_jobs=None, num_parallel_tree=None,\n",
              "              predictor=None, random_state=None, ...)</pre></div></div></div></div></div>"
            ],
            "text/plain": [
              "XGBClassifier(base_score=None, booster=None, callbacks=None,\n",
              "              colsample_bylevel=None, colsample_bynode=None,\n",
              "              colsample_bytree=None, early_stopping_rounds=None,\n",
              "              enable_categorical=False, eval_metric='rmse', feature_types=None,\n",
              "              gamma=None, gpu_id=None, grow_policy=None, importance_type=None,\n",
              "              interaction_constraints=None, learning_rate=0.1, max_bin=None,\n",
              "              max_cat_threshold=None, max_cat_to_onehot=None,\n",
              "              max_delta_step=None, max_depth=5, max_leaves=None,\n",
              "              min_child_weight=None, missing=nan, monotone_constraints=None,\n",
              "              n_estimators=10, n_jobs=None, num_parallel_tree=None,\n",
              "              predictor=None, random_state=None, ...)"
            ]
          },
          "execution_count": 81,
          "metadata": {},
          "output_type": "execute_result"
        }
      ],
      "source": [
        "clf2_xgb=xgb.XGBClassifier(learning_rate = search.best_params_[\"learning_rate\"],\n",
        "                           n_estimators  = search.best_params_[\"n_estimators\"],\n",
        "                           max_depth     = search.best_params_[\"max_depth\"],\n",
        "                           eval_metric='rmse')\n",
        "\n",
        "clf2_xgb.fit(scale(X_train), y_train)"
      ]
    },
    {
      "cell_type": "code",
      "execution_count": null,
      "id": "fd08476a",
      "metadata": {
        "id": "fd08476a",
        "outputId": "08166f04-c2cc-4826-c62c-09bb3a9012ce"
      },
      "outputs": [
        {
          "name": "stdout",
          "output_type": "stream",
          "text": [
            "Accuracy: 0.9058\n",
            "AUC: 0.6211\n"
          ]
        }
      ],
      "source": [
        "y_pred=clf2_xgb.predict(scale(X_test.values))\n",
        "auc = roc_auc_score(y_test, y_pred)\n",
        "print('Accuracy: {:.4f}'.format(accuracy_score(y_test,y_pred)))\n",
        "print('AUC: {:.4f}'.format(auc))"
      ]
    },
    {
      "cell_type": "code",
      "execution_count": null,
      "id": "d58cb8d0",
      "metadata": {
        "id": "d58cb8d0",
        "outputId": "7c211e50-b510-4ab0-b6ec-47acad857678"
      },
      "outputs": [
        {
          "data": {
            "image/png": "[encoded data removed]",
            "text/plain": [
              "<Figure size 640x480 with 1 Axes>"
            ]
          },
          "metadata": {},
          "output_type": "display_data"
        }
      ],
      "source": [
        "feature_importances = pd.Series(clf2_xgb.feature_importances_, index=X_train.columns).sort_values(ascending=False)\n",
        "\n",
        "# Plot a simple bar chart\n",
        "feature_importances.plot.bar();"
      ]
    },
    {
      "cell_type": "markdown",
      "id": "bd575e09",
      "metadata": {
        "id": "bd575e09"
      },
      "source": [
        "## Models Comparison"
      ]
    },
    {
      "cell_type": "code",
      "execution_count": null,
      "id": "aaa3bd43",
      "metadata": {
        "id": "aaa3bd43"
      },
      "outputs": [],
      "source": [
        "from sklearn import model_selection\n",
        "from sklearn.model_selection import cross_val_score\n",
        "from sklearn.model_selection import KFold\n",
        "from sklearn.tree import DecisionTreeClassifier"
      ]
    },
    {
      "cell_type": "code",
      "execution_count": null,
      "id": "96b36c81",
      "metadata": {
        "id": "96b36c81",
        "outputId": "1c9c9654-d6b8-488b-995a-b2a235c925ee"
      },
      "outputs": [
        {
          "data": {
            "text/html": [
              "<div>\n",
              "<style scoped>\n",
              "    .dataframe tbody tr th:only-of-type {\n",
              "        vertical-align: middle;\n",
              "    }\n",
              "\n",
              "    .dataframe tbody tr th {\n",
              "        vertical-align: top;\n",
              "    }\n",
              "\n",
              "    .dataframe thead th {\n",
              "        text-align: right;\n",
              "    }\n",
              "</style>\n",
              "<table border=\"1\" class=\"dataframe\">\n",
              "  <thead>\n",
              "    <tr style=\"text-align: right;\">\n",
              "      <th></th>\n",
              "      <th>Algorithm</th>\n",
              "      <th>AUC Mean</th>\n",
              "      <th>AUC STD</th>\n",
              "      <th>Accuracy Mean</th>\n",
              "      <th>Accuracy STD</th>\n",
              "    </tr>\n",
              "  </thead>\n",
              "  <tbody>\n",
              "    <tr>\n",
              "      <th>2</th>\n",
              "      <td>KNN</td>\n",
              "      <td>76.80</td>\n",
              "      <td>1.49</td>\n",
              "      <td>89.63</td>\n",
              "      <td>0.70</td>\n",
              "    </tr>\n",
              "    <tr>\n",
              "      <th>1</th>\n",
              "      <td>Logistic Regression</td>\n",
              "      <td>77.08</td>\n",
              "      <td>2.24</td>\n",
              "      <td>89.76</td>\n",
              "      <td>0.67</td>\n",
              "    </tr>\n",
              "    <tr>\n",
              "      <th>0</th>\n",
              "      <td>Decision Tree</td>\n",
              "      <td>77.87</td>\n",
              "      <td>1.60</td>\n",
              "      <td>89.86</td>\n",
              "      <td>0.57</td>\n",
              "    </tr>\n",
              "    <tr>\n",
              "      <th>3</th>\n",
              "      <td>SVM</td>\n",
              "      <td>77.90</td>\n",
              "      <td>1.41</td>\n",
              "      <td>89.77</td>\n",
              "      <td>0.68</td>\n",
              "    </tr>\n",
              "    <tr>\n",
              "      <th>5</th>\n",
              "      <td>XGBoost</td>\n",
              "      <td>79.18</td>\n",
              "      <td>1.94</td>\n",
              "      <td>89.82</td>\n",
              "      <td>0.67</td>\n",
              "    </tr>\n",
              "    <tr>\n",
              "      <th>4</th>\n",
              "      <td>Random Forest</td>\n",
              "      <td>79.73</td>\n",
              "      <td>1.84</td>\n",
              "      <td>89.91</td>\n",
              "      <td>0.68</td>\n",
              "    </tr>\n",
              "  </tbody>\n",
              "</table>\n",
              "</div>"
            ],
            "text/plain": [
              "             Algorithm  AUC Mean  AUC STD  Accuracy Mean  Accuracy STD\n",
              "2                  KNN     76.80     1.49          89.63          0.70\n",
              "1  Logistic Regression     77.08     2.24          89.76          0.67\n",
              "0        Decision Tree     77.87     1.60          89.86          0.57\n",
              "3                  SVM     77.90     1.41          89.77          0.68\n",
              "5              XGBoost     79.18     1.94          89.82          0.67\n",
              "4        Random Forest     79.73     1.84          89.91          0.68"
            ]
          },
          "execution_count": 101,
          "metadata": {},
          "output_type": "execute_result"
        }
      ],
      "source": [
        "# Initialize classifiers in consideration\n",
        "models = []\n",
        "models.append((\"Decision Tree\", dtc_model))\n",
        "models.append(('Logistic Regression', model_LR))\n",
        "models.append(('KNN', knn_31))\n",
        "models.append(('SVM',svm_model))\n",
        "models.append(('Random Forest', Classif_RF_random_best))\n",
        "models.append(('XGBoost', clf2_xgb))\n",
        "\n",
        "\n",
        "#Evaluating Model Results:\n",
        "acc_results = []\n",
        "auc_results = []\n",
        "names = []\n",
        "# set table to table to populate with performance results\n",
        "col = ['Algorithm', 'AUC Mean', 'AUC STD', 'Accuracy Mean', 'Accuracy STD']\n",
        "model_results = pd.DataFrame(columns=col)\n",
        "\n",
        "# Evaluate each model using k-fold cross-validation:\n",
        "i = 0\n",
        "for name, model in models:\n",
        "    kfold = model_selection.KFold(n_splits=10)\n",
        "    # accuracy scoring:\n",
        "    cv_acc_results = model_selection.cross_val_score(model, X_train, y_train, cv=kfold, scoring='accuracy')\n",
        "    # roc_auc scoring:\n",
        "    cv_auc_results = model_selection.cross_val_score(model, X_train, y_train, cv=kfold, scoring='roc_auc')\n",
        "    acc_results.append(cv_acc_results)\n",
        "    auc_results.append(cv_auc_results)\n",
        "    names.append(name)\n",
        "    model_results.loc[i] = [name,\n",
        "                         round(cv_auc_results.mean()*100, 2),\n",
        "                         round(cv_auc_results.std()*100, 2),\n",
        "                         round(cv_acc_results.mean()*100, 2),\n",
        "                         round(cv_acc_results.std()*100, 2)\n",
        "                         ]\n",
        "    i += 1\n",
        "\n",
        "model_results.sort_values(by=['AUC Mean'], ascending=True)"
      ]
    },
    {
      "cell_type": "markdown",
      "id": "b0d3aa3f",
      "metadata": {
        "id": "b0d3aa3f"
      },
      "source": [
        "Based on the metrics shown in the table, the Random Forest model has the highest AUC Mean and Accuracy Mean, with 79.73% and 89.91%, respectively. Therefore, the Random Forest model appears to be the best model for this particular classification task."
      ]
    },
    {
      "cell_type": "markdown",
      "id": "7b7e8275",
      "metadata": {
        "id": "7b7e8275"
      },
      "source": [
        "## best_model Prediction"
      ]
    },
    {
      "cell_type": "code",
      "execution_count": null,
      "id": "f7143154",
      "metadata": {
        "id": "f7143154",
        "outputId": "ab27a45b-2257-4b0c-f067-49b029af04ff"
      },
      "outputs": [
        {
          "name": "stdout",
          "output_type": "stream",
          "text": [
            "Accuracy on the test set: 90.5\n",
            "AUC on the test set: 80.16\n"
          ]
        }
      ],
      "source": [
        "# select the best model based on the AUC mean on the validation set\n",
        "# Decide to use Random Forest\n",
        "best_model = Classif_RF_random_best\n",
        "\n",
        "# fit the best model on the training set\n",
        "best_model.fit(X_train, y_train)\n",
        "\n",
        "# evaluate the best model on the test set\n",
        "y_pred = best_model.predict(X_test)\n",
        "y_prob = best_model.predict_proba(X_test)[:,1]\n",
        "\n",
        "# calculate the accuracy and AUC on the test set\n",
        "acc = accuracy_score(y_test, y_pred)\n",
        "auc = roc_auc_score(y_test, y_prob)\n",
        "\n",
        "print('Accuracy on the test set:', round(acc*100, 2))\n",
        "print('AUC on the test set:', round(auc*100, 2))"
      ]
    },
    {
      "cell_type": "markdown",
      "id": "2fbc7cd8",
      "metadata": {
        "id": "2fbc7cd8"
      },
      "source": [
        "## Business Simulation"
      ]
    },
    {
      "cell_type": "markdown",
      "id": "17b8517e",
      "metadata": {
        "id": "17b8517e"
      },
      "source": [
        "* When it comes to the primary goal, we can focus on the classification modeling which is to predict if the client will subscribe (yes/no) a term deposit (variable y). By using this model, we decide to know the maximum profit of the marketing campaigns in the real case.\n",
        "* The profit if the customer decides to subscribe a term deposit after a phone call : 175 dollars\n",
        "* The mandatory cost for the whole process of marketing campaign for each customer: 30 dollars\n",
        "* It is important to check the number of employees since it significantly affect the result."
      ]
    },
    {
      "cell_type": "code",
      "execution_count": null,
      "id": "07236b3e",
      "metadata": {
        "id": "07236b3e"
      },
      "outputs": [],
      "source": [
        "## Find out the maximum and minimum of number of employess"
      ]
    },
    {
      "cell_type": "code",
      "execution_count": null,
      "id": "2bdacbc5",
      "metadata": {
        "id": "2bdacbc5",
        "outputId": "49fdd116-50b9-4ddb-93e0-a379688eb20b"
      },
      "outputs": [
        {
          "data": {
            "text/plain": [
              "5228.1    16234\n",
              "5099.1     8534\n",
              "5191.0     7763\n",
              "5195.8     3683\n",
              "5076.2     1663\n",
              "5017.5     1071\n",
              "4991.6      773\n",
              "5008.7      650\n",
              "4963.6      635\n",
              "5023.5      172\n",
              "5176.3       10\n",
              "Name: nr.employed, dtype: int64"
            ]
          },
          "execution_count": 91,
          "metadata": {},
          "output_type": "execute_result"
        }
      ],
      "source": [
        "bank_data['nr.employed'].value_counts()"
      ]
    },
    {
      "cell_type": "code",
      "execution_count": null,
      "id": "bdf6c1e9",
      "metadata": {
        "id": "bdf6c1e9"
      },
      "outputs": [],
      "source": [
        "# Case 1 - When the the number of employees are highest - 5228.1"
      ]
    },
    {
      "cell_type": "code",
      "execution_count": null,
      "id": "3ada78f2",
      "metadata": {
        "id": "3ada78f2",
        "outputId": "2176c231-beb3-4e9e-dccb-8f2abcd1d2a1"
      },
      "outputs": [
        {
          "name": "stdout",
          "output_type": "stream",
          "text": [
            "Expected value per customer: -30\n"
          ]
        }
      ],
      "source": [
        "# load the data\n",
        "case1_data = pd.DataFrame({'age': [30], 'job': [1], 'marital': [0], 'education': [3], 'default': [0],\n",
        "                         'housing': [1], 'loan': [0], 'contact': [0], 'month': [5], 'day_of_week': [1],\n",
        "                         'campaign': [2], 'pdays': [999], 'previous': [0], 'poutcome': [0],\n",
        "                         'emp.var.rate': [1.1], 'cons.price.idx': [93.994], 'cons.conf.idx': [-36.4],\n",
        "                         'euribor3m': [4.857], 'nr.employed': [5228.1]})\n",
        "\n",
        "# make prediction\n",
        "y_pred = best_model.predict(case1_data)\n",
        "\n",
        "# calculate the expected value\n",
        "if y_pred == 1:\n",
        "    expected_value = 175 - 30\n",
        "else:\n",
        "    expected_value = 0 - 30\n",
        "\n",
        "print(f\"Expected value per customer: {expected_value}\")\n"
      ]
    },
    {
      "cell_type": "code",
      "execution_count": null,
      "id": "b62f3559",
      "metadata": {
        "id": "b62f3559",
        "outputId": "f205081c-3b4d-489b-b480-f0bb9b1d7b2e"
      },
      "outputs": [
        {
          "name": "stdout",
          "output_type": "stream",
          "text": [
            "The predicted probability of success is: 0.0506\n"
          ]
        }
      ],
      "source": [
        "# Define the input data as a DataFrame\n",
        "case1_data = pd.DataFrame({'age': [30], 'job': [1], 'marital': [0], 'education': [3], 'default': [0],\n",
        "                         'housing': [1], 'loan': [0], 'contact': [0], 'month': [5], 'day_of_week': [1],\n",
        "                         'campaign': [2], 'pdays': [999], 'previous': [0], 'poutcome': [1],\n",
        "                         'emp.var.rate': [1.1], 'cons.price.idx': [93.994], 'cons.conf.idx': [-36.4],\n",
        "                         'euribor3m': [4.857], 'nr.employed': [5228.1]})\n",
        "\n",
        "# Make a prediction on the input data\n",
        "prediction = best_model.predict_proba(case1_data)[:,1]\n",
        "\n",
        "# Print the predicted probability of success\n",
        "print('The predicted probability of success is:', round(prediction[0], 4))\n"
      ]
    },
    {
      "cell_type": "markdown",
      "id": "aabf0981",
      "metadata": {
        "id": "aabf0981"
      },
      "source": [
        "Based on the predicted probability of success of 0.0506, it may not be the best decision to conduct this marketing campaign when the number of employees is high."
      ]
    },
    {
      "cell_type": "code",
      "execution_count": null,
      "id": "2010214d",
      "metadata": {
        "id": "2010214d"
      },
      "outputs": [],
      "source": [
        "# Case 2 - When the the number of employees are lowest  - 4963.6"
      ]
    },
    {
      "cell_type": "code",
      "execution_count": null,
      "id": "e4b3b551",
      "metadata": {
        "id": "e4b3b551",
        "outputId": "4d64a5da-f19e-49f0-8938-525984a86aed"
      },
      "outputs": [
        {
          "name": "stdout",
          "output_type": "stream",
          "text": [
            "Expected value per customer: -30\n"
          ]
        }
      ],
      "source": [
        "# load the data\n",
        "case2_data = pd.DataFrame({'age': [30], 'job': [1], 'marital': [0], 'education': [3], 'default': [0],\n",
        "                         'housing': [1], 'loan': [0], 'contact': [0], 'month': [5], 'day_of_week': [1],\n",
        "                         'campaign': [2], 'pdays': [999], 'previous': [0], 'poutcome': [0],\n",
        "                         'emp.var.rate': [1.1], 'cons.price.idx': [93.994], 'cons.conf.idx': [-36.4],\n",
        "                         'euribor3m': [4.857], 'nr.employed': [4963.6]})\n",
        "\n",
        "# make prediction\n",
        "y_pred = best_model.predict(case2_data)\n",
        "\n",
        "# calculate the expected value\n",
        "if y_pred == 1:\n",
        "    expected_value = 175 - 30\n",
        "else:\n",
        "    expected_value = 0 - 30\n",
        "\n",
        "print(f\"Expected value per customer: {expected_value}\")\n"
      ]
    },
    {
      "cell_type": "code",
      "execution_count": null,
      "id": "0b3b42b9",
      "metadata": {
        "id": "0b3b42b9",
        "outputId": "7a00c895-28e8-4275-c02c-83bf3b95dbdb"
      },
      "outputs": [
        {
          "name": "stdout",
          "output_type": "stream",
          "text": [
            "The predicted probability of success is: 0.3711\n"
          ]
        }
      ],
      "source": [
        "# Import necessary libraries\n",
        "import pandas as pd\n",
        "import numpy as np\n",
        "\n",
        "# Define the input data as a DataFrame\n",
        "case2_data = pd.DataFrame({'age': [30], 'job': [1], 'marital': [0], 'education': [3], 'default': [0],\n",
        "                         'housing': [1], 'loan': [0], 'contact': [0], 'month': [5], 'day_of_week': [1],\n",
        "                         'campaign': [2], 'pdays': [999], 'previous': [0], 'poutcome': [0],\n",
        "                         'emp.var.rate': [1.1], 'cons.price.idx': [93.994], 'cons.conf.idx': [-36.4],\n",
        "                         'euribor3m': [4.857], 'nr.employed': [4963.6]})\n",
        "\n",
        "# Make a prediction on the input data\n",
        "prediction = best_model.predict_proba(case2_data)[:,1]\n",
        "\n",
        "# Print the predicted probability of success\n",
        "print('The predicted probability of success is:', round(prediction[0], 4))"
      ]
    },
    {
      "cell_type": "markdown",
      "id": "3b232270",
      "metadata": {
        "id": "3b232270"
      },
      "source": [
        "Regarding the result, the predicted probability of success is higher when the number of employees is lower, but it remains below 0.5. This suggests that we need to investigate the performance of our model on the test dataset to determine if this marketing strategy is viable."
      ]
    },
    {
      "cell_type": "code",
      "execution_count": null,
      "id": "c85432a0",
      "metadata": {
        "id": "c85432a0",
        "outputId": "f1f058be-85b8-4f7d-9477-b637d99fc82e"
      },
      "outputs": [
        {
          "name": "stdout",
          "output_type": "stream",
          "text": [
            "The predicted probability of success is: 0.0524\n",
            "Expected value per customer: 2.50\n"
          ]
        }
      ],
      "source": [
        "# predict probabilities of y=1 for test set\n",
        "y_pred_prob = best_model.predict_proba(X_test)[:, 1]\n",
        "print('The predicted probability of success is:', round(y_pred_prob[0], 4))\n",
        "\n",
        "# set a threshold to decide which customers to call\n",
        "threshold = 0.5\n",
        "to_call = y_pred_prob >= threshold\n",
        "\n",
        "# calculate the net profit for each customer\n",
        "net_profit = np.zeros_like(y_test)\n",
        "net_profit[(y_test == 1) & to_call] = 145 # profit of 70 for true positives that are called\n",
        "net_profit[to_call & (y_test == 0)] = -30  # cost of 30 for false positives that are called\n",
        "\n",
        "# calculate the expected value\n",
        "expected_value = np.mean(net_profit * y_pred_prob)\n",
        "\n",
        "print(f\"Expected value per customer: {expected_value:.2f}\")"
      ]
    },
    {
      "cell_type": "markdown",
      "id": "932ab753",
      "metadata": {
        "id": "932ab753"
      },
      "source": [
        "This code computes the expected value of a telemarketing campaign based on the predicted probability of success for each customer.\n",
        "\n",
        "First, it uses the trained model best_model to predict the probability of success for each customer in the test set, and selects the probability for class 1 using best_model.predict_proba(X_test)[:, 1].\n",
        "\n",
        "Next, it sets a threshold of 0.5 to decide which customers to call. If the predicted probability of success is greater than or equal to 0.5, the customer is considered to be a positive and is selected for a call, otherwise, the customer is considered to be a negative and not selected for a call. This is done using the to_call variable.\n",
        "\n",
        "Then, it calculates the net profit for each customer. For a true positive that is called, the profit is 145, and for a false positive that is called, the cost is -30. If a customer is not called, the net profit for that customer is 0. This is done using the net_profit variable.\n",
        "\n",
        "Finally, it calculates the expected value of the telemarketing campaign by taking the mean of the product of net_profit and y_pred_prob. This value represents the expected profit per customer if the campaign were repeated many times. It is printed out at the end of the code using the print function."
      ]
    },
    {
      "cell_type": "markdown",
      "id": "f55c1914",
      "metadata": {
        "id": "f55c1914"
      },
      "source": [
        "The expected value per customer of 2.50 represents the average profit that can be gained per customer if we use the model to decide whether or not to offer them a term deposit. In this case, we can expect to make a profit of $2.50 per customer if we offer them a term deposit based on the predicted probability of success from the model, taking into account the cost of the marketing campaign and the potential profit from the customer subscribing to the term deposit."
      ]
    },
    {
      "cell_type": "markdown",
      "id": "05c30948",
      "metadata": {
        "id": "05c30948"
      },
      "source": [
        "Based on the predicted probability of success and the expected value per customer, it may not be profitable to conduct this marketing campaign. The predicted probability of success is relatively low at 0.0524, which means that the likelihood of a customer subscribing to the term deposit after a phone call is not very high. Additionally, the expected value per customer is only 2.5, which is barely above the cost of the marketing campaign itself (30 dollars). Therefore, it may be more effective to consider alternative marketing strategies or to improve the current campaign to increase the likelihood of success and the expected value per customer."
      ]
    }
  ],
  "metadata": {
    "colab": {
      "provenance": [],
      "include_colab_link": true
    },
    "kernelspec": {
      "display_name": "Python 3 (ipykernel)",
      "language": "python",
      "name": "python3"
    },
    "language_info": {
      "codemirror_mode": {
        "name": "ipython",
        "version": 3
      },
      "file_extension": ".py",
      "mimetype": "text/x-python",
      "name": "python",
      "nbconvert_exporter": "python",
      "pygments_lexer": "ipython3",
      "version": "3.9.12"
    }
  },
  "nbformat": 4,
  "nbformat_minor": 5
}